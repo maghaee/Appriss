{
 "cells": [
  {
   "cell_type": "code",
   "execution_count": 1,
   "metadata": {
    "scrolled": true
   },
   "outputs": [
    {
     "name": "stdout",
     "output_type": "stream",
     "text": [
      "/home/salar/anaconda3/lib/python3.7/site-packages/tensorflow/python/framework/dtypes.py:516: FutureWarning: Passing (type, 1) or '1type' as a synonym of type is deprecated; in a future version of numpy, it will be understood as (type, (1,)) / '(1,)type'.\n",
      "  _np_qint8 = np.dtype([(\"qint8\", np.int8, 1)])\n",
      "/home/salar/anaconda3/lib/python3.7/site-packages/tensorflow/python/framework/dtypes.py:517: FutureWarning: Passing (type, 1) or '1type' as a synonym of type is deprecated; in a future version of numpy, it will be understood as (type, (1,)) / '(1,)type'.\n",
      "  _np_quint8 = np.dtype([(\"quint8\", np.uint8, 1)])\n",
      "/home/salar/anaconda3/lib/python3.7/site-packages/tensorflow/python/framework/dtypes.py:518: FutureWarning: Passing (type, 1) or '1type' as a synonym of type is deprecated; in a future version of numpy, it will be understood as (type, (1,)) / '(1,)type'.\n",
      "  _np_qint16 = np.dtype([(\"qint16\", np.int16, 1)])\n",
      "/home/salar/anaconda3/lib/python3.7/site-packages/tensorflow/python/framework/dtypes.py:519: FutureWarning: Passing (type, 1) or '1type' as a synonym of type is deprecated; in a future version of numpy, it will be understood as (type, (1,)) / '(1,)type'.\n",
      "  _np_quint16 = np.dtype([(\"quint16\", np.uint16, 1)])\n",
      "/home/salar/anaconda3/lib/python3.7/site-packages/tensorflow/python/framework/dtypes.py:520: FutureWarning: Passing (type, 1) or '1type' as a synonym of type is deprecated; in a future version of numpy, it will be understood as (type, (1,)) / '(1,)type'.\n",
      "  _np_qint32 = np.dtype([(\"qint32\", np.int32, 1)])\n",
      "/home/salar/anaconda3/lib/python3.7/site-packages/tensorflow/python/framework/dtypes.py:525: FutureWarning: Passing (type, 1) or '1type' as a synonym of type is deprecated; in a future version of numpy, it will be understood as (type, (1,)) / '(1,)type'.\n",
      "  np_resource = np.dtype([(\"resource\", np.ubyte, 1)])\n",
      "/home/salar/anaconda3/lib/python3.7/site-packages/tensorboard/compat/tensorflow_stub/dtypes.py:541: FutureWarning: Passing (type, 1) or '1type' as a synonym of type is deprecated; in a future version of numpy, it will be understood as (type, (1,)) / '(1,)type'.\n",
      "  _np_qint8 = np.dtype([(\"qint8\", np.int8, 1)])\n",
      "/home/salar/anaconda3/lib/python3.7/site-packages/tensorboard/compat/tensorflow_stub/dtypes.py:542: FutureWarning: Passing (type, 1) or '1type' as a synonym of type is deprecated; in a future version of numpy, it will be understood as (type, (1,)) / '(1,)type'.\n",
      "  _np_quint8 = np.dtype([(\"quint8\", np.uint8, 1)])\n",
      "/home/salar/anaconda3/lib/python3.7/site-packages/tensorboard/compat/tensorflow_stub/dtypes.py:543: FutureWarning: Passing (type, 1) or '1type' as a synonym of type is deprecated; in a future version of numpy, it will be understood as (type, (1,)) / '(1,)type'.\n",
      "  _np_qint16 = np.dtype([(\"qint16\", np.int16, 1)])\n",
      "/home/salar/anaconda3/lib/python3.7/site-packages/tensorboard/compat/tensorflow_stub/dtypes.py:544: FutureWarning: Passing (type, 1) or '1type' as a synonym of type is deprecated; in a future version of numpy, it will be understood as (type, (1,)) / '(1,)type'.\n",
      "  _np_quint16 = np.dtype([(\"quint16\", np.uint16, 1)])\n",
      "/home/salar/anaconda3/lib/python3.7/site-packages/tensorboard/compat/tensorflow_stub/dtypes.py:545: FutureWarning: Passing (type, 1) or '1type' as a synonym of type is deprecated; in a future version of numpy, it will be understood as (type, (1,)) / '(1,)type'.\n",
      "  _np_qint32 = np.dtype([(\"qint32\", np.int32, 1)])\n",
      "/home/salar/anaconda3/lib/python3.7/site-packages/tensorboard/compat/tensorflow_stub/dtypes.py:550: FutureWarning: Passing (type, 1) or '1type' as a synonym of type is deprecated; in a future version of numpy, it will be understood as (type, (1,)) / '(1,)type'.\n",
      "  np_resource = np.dtype([(\"resource\", np.ubyte, 1)])\n",
      "usage: tf_upgrade_v2 [-h] [--infile INPUT_FILE] [--outfile OUTPUT_FILE]\n",
      "                     [--intree INPUT_TREE] [--outtree OUTPUT_TREE]\n",
      "                     [--copyotherfiles COPY_OTHER_FILES] [--inplace]\n",
      "                     [--reportfile REPORT_FILENAME] [--mode {DEFAULT,SAFETY}]\n",
      "                     [--print_all]\n",
      "\n",
      "Convert a TensorFlow Python file from 1.x to 2.0\n",
      "\n",
      "Simple usage:\n",
      "  tf_upgrade_v2.py --infile foo.py --outfile bar.py\n",
      "  tf_upgrade_v2.py --infile foo.ipynb --outfile bar.ipynb\n",
      "  tf_upgrade_v2.py --intree ~/code/old --outtree ~/code/new\n",
      "\n",
      "optional arguments:\n",
      "  -h, --help            show this help message and exit\n",
      "  --infile INPUT_FILE   If converting a single file, the name of the file to\n",
      "                        convert\n",
      "  --outfile OUTPUT_FILE\n",
      "                        If converting a single file, the output filename.\n",
      "  --intree INPUT_TREE   If converting a whole tree of files, the directory to\n",
      "                        read from (relative or absolute).\n",
      "  --outtree OUTPUT_TREE\n",
      "                        If converting a whole tree of files, the output\n",
      "                        directory (relative or absolute).\n",
      "  --copyotherfiles COPY_OTHER_FILES\n",
      "                        If converting a whole tree of files, whether to copy\n",
      "                        the other files.\n",
      "  --inplace             If converting a set of files, whether to allow the\n",
      "                        conversion to be performed on the input files.\n",
      "  --reportfile REPORT_FILENAME\n",
      "                        The name of the file where the report log is\n",
      "                        stored.(default: report.txt)\n",
      "  --mode {DEFAULT,SAFETY}\n",
      "                        Upgrade script mode. Supported modes: DEFAULT: Perform\n",
      "                        only straightforward conversions to upgrade to 2.0. In\n",
      "                        more difficult cases, switch to use compat.v1. SAFETY:\n",
      "                        Keep 1.* code intact and import compat.v1 module. Also\n",
      "                        disable 2.0 behavior to ensure code that requires 1.X\n",
      "                        behavior continues to work.\n",
      "  --print_all           Print full log to stdout instead of just printing\n",
      "                        errors\n"
     ]
    }
   ],
   "source": [
    "!tf_upgrade_v2"
   ]
  },
  {
   "cell_type": "code",
   "execution_count": 61,
   "metadata": {},
   "outputs": [],
   "source": [
    "import pandas as pd\n",
    "import seaborn as sns\n",
    "import matplotlib.pyplot as plt\n",
    "import pylab\n",
    "import pandas as pd\n",
    "import numpy as np\n",
    "import matplotlib.pyplot as plt\n",
    "import sklearn\n",
    "import numpy as np\n",
    "import tensorflow as tf\n",
    "from sklearn.model_selection import train_test_split\n",
    "import matplotlib.gridspec as gridspec\n",
    "import math\n",
    "from sklearn.preprocessing import StandardScaler\n",
    "from sklearn.utils import shuffle\n",
    "import datetime\n",
    "import xgboost\n",
    "from sklearn.metrics import precision_score,recall_score\n",
    "from sklearn.metrics import roc_curve\n",
    "from sklearn import metrics\n",
    "from sklearn import model_selection, metrics, preprocessing\n",
    "from tqdm import tqdm"
   ]
  },
  {
   "cell_type": "code",
   "execution_count": 5,
   "metadata": {},
   "outputs": [
    {
     "name": "stdout",
     "output_type": "stream",
     "text": [
      "<class 'pandas.core.frame.DataFrame'>\n",
      "RangeIndex: 284807 entries, 0 to 284806\n",
      "Data columns (total 31 columns):\n",
      "Time      284807 non-null float64\n",
      "V1        284807 non-null float64\n",
      "V2        284807 non-null float64\n",
      "V3        284807 non-null float64\n",
      "V4        284807 non-null float64\n",
      "V5        284807 non-null float64\n",
      "V6        284807 non-null float64\n",
      "V7        284807 non-null float64\n",
      "V8        284807 non-null float64\n",
      "V9        284807 non-null float64\n",
      "V10       284807 non-null float64\n",
      "V11       284807 non-null float64\n",
      "V12       284807 non-null float64\n",
      "V13       284807 non-null float64\n",
      "V14       284807 non-null float64\n",
      "V15       284807 non-null float64\n",
      "V16       284807 non-null float64\n",
      "V17       284807 non-null float64\n",
      "V18       284807 non-null float64\n",
      "V19       284807 non-null float64\n",
      "V20       284807 non-null float64\n",
      "V21       284807 non-null float64\n",
      "V22       284807 non-null float64\n",
      "V23       284807 non-null float64\n",
      "V24       284807 non-null float64\n",
      "V25       284807 non-null float64\n",
      "V26       284807 non-null float64\n",
      "V27       284807 non-null float64\n",
      "V28       284807 non-null float64\n",
      "Amount    284807 non-null float64\n",
      "Class     284807 non-null int64\n",
      "dtypes: float64(30), int64(1)\n",
      "memory usage: 67.4 MB\n"
     ]
    }
   ],
   "source": [
    "data = pd.read_csv(\"creditcard.csv\")\n",
    "data.info()"
   ]
  },
  {
   "cell_type": "code",
   "execution_count": 6,
   "metadata": {},
   "outputs": [
    {
     "name": "stdout",
     "output_type": "stream",
     "text": [
      "<class 'pandas.core.frame.DataFrame'>\n",
      "RangeIndex: 284807 entries, 0 to 284806\n",
      "Data columns (total 31 columns):\n",
      "Time      284807 non-null float64\n",
      "V1        284807 non-null float64\n",
      "V2        284807 non-null float64\n",
      "V3        284807 non-null float64\n",
      "V4        284807 non-null float64\n",
      "V5        284807 non-null float64\n",
      "V6        284807 non-null float64\n",
      "V7        284807 non-null float64\n",
      "V8        284807 non-null float64\n",
      "V9        284807 non-null float64\n",
      "V10       284807 non-null float64\n",
      "V11       284807 non-null float64\n",
      "V12       284807 non-null float64\n",
      "V13       284807 non-null float64\n",
      "V14       284807 non-null float64\n",
      "V15       284807 non-null float64\n",
      "V16       284807 non-null float64\n",
      "V17       284807 non-null float64\n",
      "V18       284807 non-null float64\n",
      "V19       284807 non-null float64\n",
      "V20       284807 non-null float64\n",
      "V21       284807 non-null float64\n",
      "V22       284807 non-null float64\n",
      "V23       284807 non-null float64\n",
      "V24       284807 non-null float64\n",
      "V25       284807 non-null float64\n",
      "V26       284807 non-null float64\n",
      "V27       284807 non-null float64\n",
      "V28       284807 non-null float64\n",
      "Amount    284807 non-null float64\n",
      "Class     284807 non-null int64\n",
      "dtypes: float64(30), int64(1)\n",
      "memory usage: 67.4 MB\n"
     ]
    }
   ],
   "source": [
    "data.info()"
   ]
  },
  {
   "cell_type": "code",
   "execution_count": 7,
   "metadata": {},
   "outputs": [
    {
     "data": {
      "text/plain": [
       "(284807, 31)"
      ]
     },
     "execution_count": 7,
     "metadata": {},
     "output_type": "execute_result"
    }
   ],
   "source": [
    "data.shape"
   ]
  },
  {
   "cell_type": "code",
   "execution_count": 8,
   "metadata": {},
   "outputs": [
    {
     "data": {
      "image/png": "[encoded data removed]",
      "text/plain": [
       "<Figure size 432x288 with 1 Axes>"
      ]
     },
     "metadata": {
      "needs_background": "light"
     },
     "output_type": "display_data"
    }
   ],
   "source": [
    "import matplotlib.pyplot as plt\n",
    "import pylab\n",
    "data['Class'].value_counts().plot(kind='bar')\n",
    "\n",
    "plt.show()"
   ]
  },
  {
   "cell_type": "code",
   "execution_count": 9,
   "metadata": {},
   "outputs": [
    {
     "data": {
      "text/plain": [
       "Time      0\n",
       "V1        0\n",
       "V2        0\n",
       "V3        0\n",
       "V4        0\n",
       "V5        0\n",
       "V6        0\n",
       "V7        0\n",
       "V8        0\n",
       "V9        0\n",
       "V10       0\n",
       "V11       0\n",
       "V12       0\n",
       "V13       0\n",
       "V14       0\n",
       "V15       0\n",
       "V16       0\n",
       "V17       0\n",
       "V18       0\n",
       "V19       0\n",
       "V20       0\n",
       "V21       0\n",
       "V22       0\n",
       "V23       0\n",
       "V24       0\n",
       "V25       0\n",
       "V26       0\n",
       "V27       0\n",
       "V28       0\n",
       "Amount    0\n",
       "Class     0\n",
       "dtype: int64"
      ]
     },
     "execution_count": 9,
     "metadata": {},
     "output_type": "execute_result"
    }
   ],
   "source": [
    "data.isnull().sum()"
   ]
  },
  {
   "cell_type": "code",
   "execution_count": 10,
   "metadata": {},
   "outputs": [],
   "source": [
    "import pandas as pd\n",
    "import numpy as np\n",
    "import matplotlib.pyplot as plt\n",
    "import sklearn\n",
    "import numpy as np\n",
    "import tensorflow as tf\n",
    "from sklearn.model_selection import train_test_split\n",
    "import matplotlib.gridspec as gridspec\n",
    "import math\n",
    "from sklearn.metrics import confusion_matrix\n"
   ]
  },
  {
   "cell_type": "code",
   "execution_count": 11,
   "metadata": {},
   "outputs": [],
   "source": [
    "#x_train,x_test,y_train,y_test = train_test_split(x,y,test_size = 0.3 , random_state=42, stratify=y)"
   ]
  },
  {
   "cell_type": "code",
   "execution_count": 12,
   "metadata": {},
   "outputs": [],
   "source": [
    "#create column for non-fraud transaction\n",
    "data.loc[data.Class == 0 ,'normal'] = 1\n",
    "data.loc[data.Class == 1 ,'normal'] = 0"
   ]
  },
  {
   "cell_type": "code",
   "execution_count": 13,
   "metadata": {},
   "outputs": [],
   "source": [
    "#rename Class to fraud\n",
    "\n",
    "data = data.rename(columns={'Class' : 'fraud' })"
   ]
  },
  {
   "cell_type": "code",
   "execution_count": 14,
   "metadata": {},
   "outputs": [],
   "source": [
    "from sklearn.preprocessing import StandardScaler\n",
    "\n",
    "data['normAmount'] = StandardScaler().fit_transform(data['Amount'].values.reshape(-1, 1))"
   ]
  },
  {
   "cell_type": "code",
   "execution_count": 15,
   "metadata": {},
   "outputs": [],
   "source": [
    "data = data.drop(['Time','Amount'],axis=1)"
   ]
  },
  {
   "cell_type": "code",
   "execution_count": 16,
   "metadata": {},
   "outputs": [],
   "source": [
    "fraud = data[data.fraud==1]\n",
    "normal = data[data.normal==1]"
   ]
  },
  {
   "cell_type": "code",
   "execution_count": 17,
   "metadata": {
    "scrolled": true
   },
   "outputs": [
    {
     "data": {
      "text/plain": [
       "(492, 31)"
      ]
     },
     "execution_count": 17,
     "metadata": {},
     "output_type": "execute_result"
    }
   ],
   "source": [
    "fraud.shape"
   ]
  },
  {
   "cell_type": "code",
   "execution_count": 18,
   "metadata": {},
   "outputs": [
    {
     "data": {
      "text/plain": [
       "(284315, 31)"
      ]
     },
     "execution_count": 18,
     "metadata": {},
     "output_type": "execute_result"
    }
   ],
   "source": [
    "normal.shape"
   ]
  },
  {
   "cell_type": "code",
   "execution_count": 19,
   "metadata": {},
   "outputs": [],
   "source": [
    "from sklearn.utils import resample\n",
    "normal= resample(normal, \n",
    "                                 replace=False,    # sample without replacement\n",
    "                                 n_samples=492,     # to match minority class\n",
    "                                 random_state=123) # reproducible results"
   ]
  },
  {
   "cell_type": "code",
   "execution_count": 20,
   "metadata": {
    "scrolled": true
   },
   "outputs": [
    {
     "data": {
      "text/html": [
       "<div>\n",
       "<style scoped>\n",
       "    .dataframe tbody tr th:only-of-type {\n",
       "        vertical-align: middle;\n",
       "    }\n",
       "\n",
       "    .dataframe tbody tr th {\n",
       "        vertical-align: top;\n",
       "    }\n",
       "\n",
       "    .dataframe thead th {\n",
       "        text-align: right;\n",
       "    }\n",
       "</style>\n",
       "<table border=\"1\" class=\"dataframe\">\n",
       "  <thead>\n",
       "    <tr style=\"text-align: right;\">\n",
       "      <th></th>\n",
       "      <th>V1</th>\n",
       "      <th>V2</th>\n",
       "      <th>V3</th>\n",
       "      <th>V4</th>\n",
       "      <th>V5</th>\n",
       "      <th>V6</th>\n",
       "      <th>V7</th>\n",
       "      <th>V8</th>\n",
       "      <th>V9</th>\n",
       "      <th>V10</th>\n",
       "      <th>...</th>\n",
       "      <th>V22</th>\n",
       "      <th>V23</th>\n",
       "      <th>V24</th>\n",
       "      <th>V25</th>\n",
       "      <th>V26</th>\n",
       "      <th>V27</th>\n",
       "      <th>V28</th>\n",
       "      <th>fraud</th>\n",
       "      <th>normal</th>\n",
       "      <th>normAmount</th>\n",
       "    </tr>\n",
       "  </thead>\n",
       "  <tbody>\n",
       "    <tr>\n",
       "      <th>0</th>\n",
       "      <td>-1.359807</td>\n",
       "      <td>-0.072781</td>\n",
       "      <td>2.536347</td>\n",
       "      <td>1.378155</td>\n",
       "      <td>-0.338321</td>\n",
       "      <td>0.462388</td>\n",
       "      <td>0.239599</td>\n",
       "      <td>0.098698</td>\n",
       "      <td>0.363787</td>\n",
       "      <td>0.090794</td>\n",
       "      <td>...</td>\n",
       "      <td>0.277838</td>\n",
       "      <td>-0.110474</td>\n",
       "      <td>0.066928</td>\n",
       "      <td>0.128539</td>\n",
       "      <td>-0.189115</td>\n",
       "      <td>0.133558</td>\n",
       "      <td>-0.021053</td>\n",
       "      <td>0</td>\n",
       "      <td>1.0</td>\n",
       "      <td>0.244964</td>\n",
       "    </tr>\n",
       "    <tr>\n",
       "      <th>1</th>\n",
       "      <td>1.191857</td>\n",
       "      <td>0.266151</td>\n",
       "      <td>0.166480</td>\n",
       "      <td>0.448154</td>\n",
       "      <td>0.060018</td>\n",
       "      <td>-0.082361</td>\n",
       "      <td>-0.078803</td>\n",
       "      <td>0.085102</td>\n",
       "      <td>-0.255425</td>\n",
       "      <td>-0.166974</td>\n",
       "      <td>...</td>\n",
       "      <td>-0.638672</td>\n",
       "      <td>0.101288</td>\n",
       "      <td>-0.339846</td>\n",
       "      <td>0.167170</td>\n",
       "      <td>0.125895</td>\n",
       "      <td>-0.008983</td>\n",
       "      <td>0.014724</td>\n",
       "      <td>0</td>\n",
       "      <td>1.0</td>\n",
       "      <td>-0.342475</td>\n",
       "    </tr>\n",
       "    <tr>\n",
       "      <th>2</th>\n",
       "      <td>-1.358354</td>\n",
       "      <td>-1.340163</td>\n",
       "      <td>1.773209</td>\n",
       "      <td>0.379780</td>\n",
       "      <td>-0.503198</td>\n",
       "      <td>1.800499</td>\n",
       "      <td>0.791461</td>\n",
       "      <td>0.247676</td>\n",
       "      <td>-1.514654</td>\n",
       "      <td>0.207643</td>\n",
       "      <td>...</td>\n",
       "      <td>0.771679</td>\n",
       "      <td>0.909412</td>\n",
       "      <td>-0.689281</td>\n",
       "      <td>-0.327642</td>\n",
       "      <td>-0.139097</td>\n",
       "      <td>-0.055353</td>\n",
       "      <td>-0.059752</td>\n",
       "      <td>0</td>\n",
       "      <td>1.0</td>\n",
       "      <td>1.160686</td>\n",
       "    </tr>\n",
       "    <tr>\n",
       "      <th>3</th>\n",
       "      <td>-0.966272</td>\n",
       "      <td>-0.185226</td>\n",
       "      <td>1.792993</td>\n",
       "      <td>-0.863291</td>\n",
       "      <td>-0.010309</td>\n",
       "      <td>1.247203</td>\n",
       "      <td>0.237609</td>\n",
       "      <td>0.377436</td>\n",
       "      <td>-1.387024</td>\n",
       "      <td>-0.054952</td>\n",
       "      <td>...</td>\n",
       "      <td>0.005274</td>\n",
       "      <td>-0.190321</td>\n",
       "      <td>-1.175575</td>\n",
       "      <td>0.647376</td>\n",
       "      <td>-0.221929</td>\n",
       "      <td>0.062723</td>\n",
       "      <td>0.061458</td>\n",
       "      <td>0</td>\n",
       "      <td>1.0</td>\n",
       "      <td>0.140534</td>\n",
       "    </tr>\n",
       "    <tr>\n",
       "      <th>4</th>\n",
       "      <td>-1.158233</td>\n",
       "      <td>0.877737</td>\n",
       "      <td>1.548718</td>\n",
       "      <td>0.403034</td>\n",
       "      <td>-0.407193</td>\n",
       "      <td>0.095921</td>\n",
       "      <td>0.592941</td>\n",
       "      <td>-0.270533</td>\n",
       "      <td>0.817739</td>\n",
       "      <td>0.753074</td>\n",
       "      <td>...</td>\n",
       "      <td>0.798278</td>\n",
       "      <td>-0.137458</td>\n",
       "      <td>0.141267</td>\n",
       "      <td>-0.206010</td>\n",
       "      <td>0.502292</td>\n",
       "      <td>0.219422</td>\n",
       "      <td>0.215153</td>\n",
       "      <td>0</td>\n",
       "      <td>1.0</td>\n",
       "      <td>-0.073403</td>\n",
       "    </tr>\n",
       "  </tbody>\n",
       "</table>\n",
       "<p>5 rows × 31 columns</p>\n",
       "</div>"
      ],
      "text/plain": [
       "         V1        V2        V3        V4        V5        V6        V7  \\\n",
       "0 -1.359807 -0.072781  2.536347  1.378155 -0.338321  0.462388  0.239599   \n",
       "1  1.191857  0.266151  0.166480  0.448154  0.060018 -0.082361 -0.078803   \n",
       "2 -1.358354 -1.340163  1.773209  0.379780 -0.503198  1.800499  0.791461   \n",
       "3 -0.966272 -0.185226  1.792993 -0.863291 -0.010309  1.247203  0.237609   \n",
       "4 -1.158233  0.877737  1.548718  0.403034 -0.407193  0.095921  0.592941   \n",
       "\n",
       "         V8        V9       V10  ...       V22       V23       V24       V25  \\\n",
       "0  0.098698  0.363787  0.090794  ...  0.277838 -0.110474  0.066928  0.128539   \n",
       "1  0.085102 -0.255425 -0.166974  ... -0.638672  0.101288 -0.339846  0.167170   \n",
       "2  0.247676 -1.514654  0.207643  ...  0.771679  0.909412 -0.689281 -0.327642   \n",
       "3  0.377436 -1.387024 -0.054952  ...  0.005274 -0.190321 -1.175575  0.647376   \n",
       "4 -0.270533  0.817739  0.753074  ...  0.798278 -0.137458  0.141267 -0.206010   \n",
       "\n",
       "        V26       V27       V28  fraud  normal  normAmount  \n",
       "0 -0.189115  0.133558 -0.021053      0     1.0    0.244964  \n",
       "1  0.125895 -0.008983  0.014724      0     1.0   -0.342475  \n",
       "2 -0.139097 -0.055353 -0.059752      0     1.0    1.160686  \n",
       "3 -0.221929  0.062723  0.061458      0     1.0    0.140534  \n",
       "4  0.502292  0.219422  0.215153      0     1.0   -0.073403  \n",
       "\n",
       "[5 rows x 31 columns]"
      ]
     },
     "execution_count": 20,
     "metadata": {},
     "output_type": "execute_result"
    }
   ],
   "source": [
    "data.head()"
   ]
  },
  {
   "cell_type": "code",
   "execution_count": 21,
   "metadata": {},
   "outputs": [],
   "source": [
    "#test and training data before undersampling\n",
    "\n",
    "# Set X_train equal to 80% of the fraudulent transactions.\n",
    "X_train = fraud.sample(frac=0.8)\n",
    "\n",
    "\n",
    "count_Frauds = len(X_train)\n",
    "\n",
    "# Add 80% of the normal transactions to X_train.\n",
    "X_train = pd.concat([X_train, normal.sample(frac = 0.8)], axis = 0)\n",
    "\n",
    "# X_test contains all the transaction not in X_train.\n",
    "X_test = data.loc[~data.index.isin(X_train.index)]"
   ]
  },
  {
   "cell_type": "code",
   "execution_count": 22,
   "metadata": {},
   "outputs": [],
   "source": [
    "from sklearn.utils import shuffle\n",
    "#Shuffle the dataframes so that the training is done in a random order.\n",
    "X_train = shuffle(X_train)\n",
    "X_test = shuffle(X_test)"
   ]
  },
  {
   "cell_type": "code",
   "execution_count": 23,
   "metadata": {},
   "outputs": [],
   "source": [
    "#Add our target features to y_train and y_test.\n",
    "y_train = X_train.fraud\n",
    "y_train = pd.concat([y_train, X_train.normal], axis=1)\n",
    "\n",
    "y_test = X_test.fraud\n",
    "y_test = pd.concat([y_test, X_test.normal], axis=1)"
   ]
  },
  {
   "cell_type": "code",
   "execution_count": 24,
   "metadata": {},
   "outputs": [],
   "source": [
    "#Drop target features from X_train and X_test.\n",
    "X_train = X_train.drop(['fraud','normal'], axis = 1)\n",
    "X_test = X_test.drop(['fraud','normal'], axis = 1)"
   ]
  },
  {
   "cell_type": "code",
   "execution_count": 25,
   "metadata": {},
   "outputs": [
    {
     "data": {
      "text/plain": [
       "(788, 29)"
      ]
     },
     "execution_count": 25,
     "metadata": {},
     "output_type": "execute_result"
    }
   ],
   "source": [
    "X_train.shape"
   ]
  },
  {
   "cell_type": "code",
   "execution_count": 199,
   "metadata": {
    "collapsed": true
   },
   "outputs": [],
   "source": [
    "# Split the testing data into validation and testing sets\n",
    "#split = int(len(y_test)/2)\n",
    "\n",
    "\n",
    "#X_input_valid = X_test.as_matrix()[:split]\n",
    "#Y_input_valid = y_test.as_matrix()[:split]\n",
    "\n",
    "#X_input_test = X_test.as_matrix()[split:]\n",
    "#y_input_test = y_test.as_matrix()[split:]"
   ]
  },
  {
   "cell_type": "code",
   "execution_count": 26,
   "metadata": {},
   "outputs": [],
   "source": [
    "x_input_train = X_train.values\n",
    "y_input_train = y_train.values\n",
    "\n",
    "x_input_test = X_test.values\n",
    "y_input_test =y_test.values\n",
    "\n"
   ]
  },
  {
   "cell_type": "code",
   "execution_count": 27,
   "metadata": {},
   "outputs": [
    {
     "data": {
      "text/plain": [
       "(788, 29)"
      ]
     },
     "execution_count": 27,
     "metadata": {},
     "output_type": "execute_result"
    }
   ],
   "source": [
    "X_train.shape"
   ]
  },
  {
   "cell_type": "code",
   "execution_count": 28,
   "metadata": {},
   "outputs": [
    {
     "data": {
      "text/plain": [
       "(284019, 29)"
      ]
     },
     "execution_count": 28,
     "metadata": {},
     "output_type": "execute_result"
    }
   ],
   "source": [
    "X_test.shape"
   ]
  },
  {
   "cell_type": "code",
   "execution_count": 29,
   "metadata": {},
   "outputs": [
    {
     "data": {
      "text/plain": [
       "(788, 2)"
      ]
     },
     "execution_count": 29,
     "metadata": {},
     "output_type": "execute_result"
    }
   ],
   "source": [
    "y_train.shape"
   ]
  },
  {
   "cell_type": "code",
   "execution_count": 30,
   "metadata": {},
   "outputs": [
    {
     "data": {
      "text/plain": [
       "(284019, 2)"
      ]
     },
     "execution_count": 30,
     "metadata": {},
     "output_type": "execute_result"
    }
   ],
   "source": [
    "y_test.shape"
   ]
  },
  {
   "cell_type": "code",
   "execution_count": 31,
   "metadata": {},
   "outputs": [],
   "source": [
    "#Define parameters for the model\n",
    "\n",
    "learning_rate = 0.01\n",
    "batch_size = 100\n",
    "\n",
    "\n"
   ]
  },
  {
   "cell_type": "code",
   "execution_count": 33,
   "metadata": {},
   "outputs": [],
   "source": [
    "import tensorflow.compat.v1 as tf\n",
    "tf.disable_v2_behavior()"
   ]
  },
  {
   "cell_type": "code",
   "execution_count": 34,
   "metadata": {},
   "outputs": [],
   "source": [
    "#create placehoder for features and labels\n",
    "\n",
    "X = tf.placeholder(tf.float32,[None,29],name ='X_placehohder')\n",
    "Y = tf.placeholder(tf.float32,[None,2],name ='y_placehohder')"
   ]
  },
  {
   "cell_type": "code",
   "execution_count": 35,
   "metadata": {},
   "outputs": [],
   "source": [
    "num_classes = 2\n",
    "num_features = 29"
   ]
  },
  {
   "cell_type": "code",
   "execution_count": 37,
   "metadata": {},
   "outputs": [],
   "source": [
    "#inputs : placehoders, from inputs\n",
    "#hidden1 :size of the first hidden layer\n",
    "#hidden2 : size of the second hidden layer\n",
    "# ...fun\n",
    "feature_num = 29\n",
    "hidden1_unit =10\n",
    "hidden2_unit =10\n",
    "hidden3_unit =10\n",
    "#hidden4_unit =10\n",
    "hidden5_unit =10\n",
    "weights1 = tf.Variable(tf.truncated_normal([29,hidden1_unit],stddev=1.0/math.sqrt(float(feature_num))),name = 'weights')\n",
    "biases = tf.Variable(tf.zeros(hidden1_unit),name = 'biases')\n",
    "hidden1 = tf.nn.sigmoid(tf.matmul(X,weights1)+biases)\n",
    "hidden1 = tf.nn.dropout(hidden1, rate =0.5)\n",
    "        \n",
    "weights2 = tf.Variable(tf.truncated_normal([hidden1_unit,hidden2_unit],stddev=1.0/math.sqrt(float(hidden1_unit))),name = 'weights')\n",
    "biases = tf.Variable(tf.zeros(hidden2_unit),name = 'biases')\n",
    "hidden2 = tf.nn.sigmoid(tf.matmul(hidden1,weights2)+biases)  \n",
    "hidden2 = tf.nn.dropout(hidden2, rate =0.5)        \n",
    "        \n",
    "\n",
    "weights3 = tf.Variable(tf.truncated_normal([hidden2_unit,hidden3_unit],stddev=1.0/math.sqrt(float(hidden2_unit))),name = 'weights')\n",
    "biases3 = tf.Variable(tf.zeros(hidden3_unit),name = 'biases')\n",
    "hidden3 = tf.nn.sigmoid(tf.matmul(hidden2,weights3)+biases3) \n",
    "hidden3 = tf.nn.dropout(hidden3,rate = 0.5)\n",
    "        \n",
    "        \n",
    "        \n",
    "#linear\n",
    "\n",
    "weights5 = tf.Variable(tf.truncated_normal([hidden3_unit,num_classes],stddev=0.1/math.sqrt(float(hidden5_unit))),name = 'weights')\n",
    "biases5 = tf.Variable(tf.zeros([num_classes]),name = 'biases')\n",
    "logits = tf.nn.softmax(tf.matmul(hidden3,weights5) + biases5)\n",
    "        \n",
    "\n",
    "\n",
    "#labels = tf.to_int32(Y)\n",
    "\n",
    "#reg = tf.nn.l2_loss(weights1) + tf.nn.l2_loss(weights2) + tf.nn.l2_loss(weights3) + tf.nn.l2_loss(weights5)\n",
    "#loss = tf.reduce_mean(tf.nn.softmax_cross_entropy_with_logits(labels =  Y , logits = logits, name = 'xentropy'))\n",
    "#loss = tf.reduce_mean(loss + reg * 0.01)\n",
    "\n",
    "loss = tf.cast((tf.reduce_mean(tf.nn.softmax_cross_entropy_with_logits(\n",
    "    logits=logits, labels=Y)) +\n",
    "    0.01*tf.nn.l2_loss(weights1) +\n",
    "    0.01*tf.nn.l2_loss(biases) +\n",
    "    0.01*tf.nn.l2_loss(weights5) +\n",
    "    0.01*tf.nn.l2_loss(biases5)) ,tf.float32)     \n",
    "\n",
    "\n",
    "optimizer = tf.train.AdamOptimizer(learning_rate).minimize(loss)\n",
    "        \n",
    "correct_prediction = tf.equal(tf.argmax(logits,1),tf.argmax(Y,1))\n",
    "#compute accuracy \n",
    "accuracy = tf.reduce_mean (tf.cast(correct_prediction,tf.float32))\n",
    "\n",
    "        \n",
    "    \n",
    "    "
   ]
  },
  {
   "cell_type": "code",
   "execution_count": 38,
   "metadata": {},
   "outputs": [],
   "source": [
    "import numpy as np\n",
    "\n",
    "def next_batch(num, data, labels):\n",
    "    '''\n",
    "    Return a total of `num` random samples and labels. \n",
    "    '''\n",
    "    idx = np.arange(0 , len(data))\n",
    "    np.random.shuffle(idx)\n",
    "    idx = idx[:num]\n",
    "    data_shuffle = [data[ i] for i in idx]\n",
    "    labels_shuffle = [labels[ i] for i in idx]\n",
    "\n",
    "    return np.asarray(data_shuffle), np.asarray(labels_shuffle)"
   ]
  },
  {
   "cell_type": "code",
   "execution_count": 39,
   "metadata": {},
   "outputs": [],
   "source": [
    "#correct_prediction = tf.equal(tf.arg_max(logits,1),tf.arg_max(Y,1))\n",
    "train_predictions = tf.nn.softmax(logits)"
   ]
  },
  {
   "cell_type": "code",
   "execution_count": 40,
   "metadata": {},
   "outputs": [
    {
     "name": "stdout",
     "output_type": "stream",
     "text": [
      "Initialized\n",
      "step: 0\n",
      "model training accuracy:\n",
      "0.54\n",
      "model test accuracy:\n",
      "0.00066544843\n",
      "step: 50\n",
      "model training accuracy:\n",
      "0.68\n",
      "model test accuracy:\n",
      "0.6558681\n",
      "step: 100\n",
      "model training accuracy:\n",
      "0.89\n",
      "model test accuracy:\n",
      "0.9016545\n",
      "step: 150\n",
      "model training accuracy:\n",
      "0.89\n",
      "model test accuracy:\n",
      "0.9269098\n",
      "step: 200\n",
      "model training accuracy:\n",
      "0.92\n",
      "model test accuracy:\n",
      "0.9298709\n",
      "step: 250\n",
      "model training accuracy:\n",
      "0.86\n",
      "model test accuracy:\n",
      "0.9496724\n",
      "step: 300\n",
      "model training accuracy:\n",
      "0.84\n",
      "model test accuracy:\n",
      "0.95926327\n",
      "step: 350\n",
      "model training accuracy:\n",
      "0.91\n",
      "model test accuracy:\n",
      "0.9536686\n",
      "step: 400\n",
      "model training accuracy:\n",
      "0.9\n",
      "model test accuracy:\n",
      "0.96593183\n",
      "step: 450\n",
      "model training accuracy:\n",
      "0.9\n",
      "model test accuracy:\n",
      "0.9564254\n",
      "step: 500\n",
      "model training accuracy:\n",
      "0.93\n",
      "model test accuracy:\n",
      "0.9625694\n",
      "step: 550\n",
      "model training accuracy:\n",
      "0.9\n",
      "model test accuracy:\n",
      "0.9651115\n",
      "step: 600\n",
      "model training accuracy:\n",
      "0.95\n",
      "model test accuracy:\n",
      "0.96785074\n",
      "step: 650\n",
      "model training accuracy:\n",
      "0.91\n",
      "model test accuracy:\n",
      "0.9656713\n",
      "step: 700\n",
      "model training accuracy:\n",
      "0.95\n",
      "model test accuracy:\n",
      "0.9630412\n",
      "step: 750\n",
      "model training accuracy:\n",
      "0.88\n",
      "model test accuracy:\n",
      "0.9634039\n",
      "step: 800\n",
      "model training accuracy:\n",
      "0.91\n",
      "model test accuracy:\n",
      "0.96686137\n",
      "step: 850\n",
      "model training accuracy:\n",
      "0.89\n",
      "model test accuracy:\n",
      "0.96506923\n",
      "step: 900\n",
      "model training accuracy:\n",
      "0.94\n",
      "model test accuracy:\n",
      "0.9660551\n",
      "step: 950\n",
      "model training accuracy:\n",
      "0.89\n",
      "model test accuracy:\n",
      "0.96476644\n",
      "step: 1000\n",
      "model training accuracy:\n",
      "0.92\n",
      "model test accuracy:\n",
      "0.96705854\n",
      "step: 1050\n",
      "model training accuracy:\n",
      "0.85\n",
      "model test accuracy:\n",
      "0.9697485\n",
      "step: 1100\n",
      "model training accuracy:\n",
      "0.92\n",
      "model test accuracy:\n",
      "0.95997804\n",
      "step: 1150\n",
      "model training accuracy:\n",
      "0.85\n",
      "model test accuracy:\n",
      "0.9586929\n",
      "step: 1200\n",
      "model training accuracy:\n",
      "0.92\n",
      "model test accuracy:\n",
      "0.9625096\n",
      "step: 1250\n",
      "model training accuracy:\n",
      "0.94\n",
      "model test accuracy:\n",
      "0.9661607\n",
      "step: 1300\n",
      "model training accuracy:\n",
      "0.93\n",
      "model test accuracy:\n",
      "0.9610554\n",
      "step: 1350\n",
      "model training accuracy:\n",
      "0.91\n",
      "model test accuracy:\n",
      "0.9547389\n",
      "step: 1400\n",
      "model training accuracy:\n",
      "0.94\n",
      "model test accuracy:\n",
      "0.9553199\n",
      "step: 1450\n",
      "model training accuracy:\n",
      "0.94\n",
      "model test accuracy:\n",
      "0.9675127\n",
      "step: 1500\n",
      "model training accuracy:\n",
      "0.91\n",
      "model test accuracy:\n",
      "0.95284116\n",
      "step: 1550\n",
      "model training accuracy:\n",
      "0.96\n",
      "model test accuracy:\n",
      "0.9653967\n",
      "step: 1600\n",
      "model training accuracy:\n",
      "0.91\n",
      "model test accuracy:\n",
      "0.9645094\n",
      "step: 1650\n",
      "model training accuracy:\n",
      "0.93\n",
      "model test accuracy:\n",
      "0.97006536\n",
      "step: 1700\n",
      "model training accuracy:\n",
      "0.91\n",
      "model test accuracy:\n",
      "0.9697802\n",
      "step: 1750\n",
      "model training accuracy:\n",
      "0.9\n",
      "model test accuracy:\n",
      "0.963175\n",
      "step: 1800\n",
      "model training accuracy:\n",
      "0.91\n",
      "model test accuracy:\n",
      "0.95957667\n",
      "step: 1850\n",
      "model training accuracy:\n",
      "0.93\n",
      "model test accuracy:\n",
      "0.96405524\n",
      "step: 1900\n",
      "model training accuracy:\n",
      "0.84\n",
      "model test accuracy:\n",
      "0.97779024\n",
      "step: 1950\n",
      "model training accuracy:\n",
      "0.92\n",
      "model test accuracy:\n",
      "0.9787479\n",
      "final model accuracy:\n",
      "0.9748362\n"
     ]
    }
   ],
   "source": [
    "import datetime\n",
    "sess = tf.InteractiveSession()\n",
    "tf.summary.scalar('accuracy', accuracy)\n",
    "time_string = datetime.datetime.now().isoformat()\n",
    "#experiment_name = f\"one_hidden_layer_1000_steps_{time_string}\"\n",
    "\n",
    "merged = tf.summary.merge_all()\n",
    "train_writer = tf.summary.FileWriter(f'./train', sess.graph)\n",
    "test_writer  = tf.summary.FileWriter(f'./test', sess.graph)\n",
    "\n",
    "tf.global_variables_initializer().run()\n",
    "\n",
    "\n",
    "\n",
    "# Create a Tensorflow session\n",
    "\n",
    "print('Initialized')\n",
    "a =[]\n",
    "b=[]\n",
    "c=[]\n",
    "d = []\n",
    "for step in range(2000):\n",
    "    # Deffine an offset\n",
    "    offset = (step * batch_size) % (y_input_train.shape[0] - batch_size)\n",
    "    # Create batch data and labels\n",
    "    batch_data = x_input_train[offset:(offset + batch_size)]\n",
    "    batch_labels = y_input_train[offset:(offset + batch_size)]\n",
    "    \n",
    "    \n",
    "    batch_x, batch_y = batch_data , batch_labels\n",
    "    sess.run(optimizer, feed_dict={X : batch_x, Y : batch_y})\n",
    "    sess.run(accuracy,feed_dict= {X: x_input_test,Y: y_input_test})\n",
    "\n",
    "    if step % 50 == 0:\n",
    "        train = sess.run(accuracy,feed_dict= {X : batch_x, Y : batch_y})\n",
    "        test = sess.run(accuracy,feed_dict= {X: x_input_test,Y: y_input_test})\n",
    "        l_train = sess.run(loss,feed_dict= {X : batch_x, Y : batch_y})\n",
    "        l_test = sess.run(loss,feed_dict= {X : x_input_test, Y : y_input_test})\n",
    "        \n",
    "        \n",
    "        \n",
    "        a.append(train)\n",
    "        b.append(test)\n",
    "        c.append(l_train)\n",
    "        d.append(l_test)\n",
    "        \n",
    "        print(f'step: {step}')\n",
    "        print('model training accuracy:')\n",
    "        print(sess.run(accuracy,feed_dict= {X : batch_x, Y : batch_y}))\n",
    "        print('model test accuracy:')\n",
    "        print(sess.run(accuracy,feed_dict= {X: x_input_test,Y: y_input_test}))\n",
    "        #print(sess.run(roc_score, feed_dict={x : x_input_test, y : y_input_test}))\n",
    "\n",
    "        \n",
    "print(\"final model accuracy:\")\n",
    "print(sess.run(accuracy,feed_dict= {X: x_input_test,Y: y_input_test}))\n",
    "\n",
    "\n"
   ]
  },
  {
   "cell_type": "code",
   "execution_count": 41,
   "metadata": {
    "scrolled": true
   },
   "outputs": [
    {
     "data": {
      "image/png": "[encoded data removed]",
      "text/plain": [
       "<Figure size 432x288 with 1 Axes>"
      ]
     },
     "metadata": {
      "needs_background": "light"
     },
     "output_type": "display_data"
    }
   ],
   "source": [
    "plt.plot(a, label='Train Accuracy')\n",
    "plt.plot(b,linestyle='--', color='r', label='Test Accuracy')\n",
    "plt.xlabel('Steps')\n",
    "plt.ylabel('Accuracy')\n",
    "plt.legend()\n",
    "plt.show()"
   ]
  },
  {
   "cell_type": "code",
   "execution_count": 42,
   "metadata": {},
   "outputs": [
    {
     "data": {
      "image/png": "[encoded data removed]",
      "text/plain": [
       "<Figure size 432x288 with 1 Axes>"
      ]
     },
     "metadata": {
      "needs_background": "light"
     },
     "output_type": "display_data"
    }
   ],
   "source": [
    "plt.plot(c, label='Training Loss')\n",
    "plt.plot(d,linestyle='--', color='r', label='Test Loss')\n",
    "\n",
    "plt.xlabel('Steps')\n",
    "plt.ylabel('Loss')\n",
    "plt.legend()\n",
    "plt.show()"
   ]
  },
  {
   "cell_type": "code",
   "execution_count": 43,
   "metadata": {},
   "outputs": [
    {
     "data": {
      "text/plain": [
       "[0.72431356,\n",
       " 0.6570121,\n",
       " 0.49949554,\n",
       " 0.45706707,\n",
       " 0.44665688,\n",
       " 0.48637953,\n",
       " 0.45703164,\n",
       " 0.47511426,\n",
       " 0.46378183,\n",
       " 0.4701607,\n",
       " 0.4240429,\n",
       " 0.47728333,\n",
       " 0.4786863,\n",
       " 0.44671807,\n",
       " 0.43275723,\n",
       " 0.45620513,\n",
       " 0.43549764,\n",
       " 0.455668,\n",
       " 0.46047035,\n",
       " 0.44301924,\n",
       " 0.46274993,\n",
       " 0.47672817,\n",
       " 0.42782006,\n",
       " 0.5114,\n",
       " 0.43260637,\n",
       " 0.42466182,\n",
       " 0.4130951,\n",
       " 0.4862421,\n",
       " 0.41760132,\n",
       " 0.45469046,\n",
       " 0.45864034,\n",
       " 0.43868595,\n",
       " 0.488461,\n",
       " 0.46131015,\n",
       " 0.47494555,\n",
       " 0.45356366,\n",
       " 0.4525103,\n",
       " 0.43554568,\n",
       " 0.4787267,\n",
       " 0.4602356]"
      ]
     },
     "execution_count": 43,
     "metadata": {},
     "output_type": "execute_result"
    }
   ],
   "source": [
    "c"
   ]
  },
  {
   "cell_type": "code",
   "execution_count": 44,
   "metadata": {
    "scrolled": true
   },
   "outputs": [],
   "source": [
    "import xgboost"
   ]
  },
  {
   "cell_type": "code",
   "execution_count": 47,
   "metadata": {},
   "outputs": [
    {
     "data": {
      "text/plain": [
       "Index(['V1', 'V2', 'V3', 'V4', 'V5', 'V6', 'V7', 'V8', 'V9', 'V10', 'V11',\n",
       "       'V12', 'V13', 'V14', 'V15', 'V16', 'V17', 'V18', 'V19', 'V20', 'V21',\n",
       "       'V22', 'V23', 'V24', 'V25', 'V26', 'V27', 'V28', 'normAmount'],\n",
       "      dtype='object')"
      ]
     },
     "execution_count": 47,
     "metadata": {},
     "output_type": "execute_result"
    }
   ],
   "source": [
    "X_train.columns"
   ]
  },
  {
   "cell_type": "code",
   "execution_count": 48,
   "metadata": {},
   "outputs": [],
   "source": [
    "y_train = y_train.drop(['normal'],axis = 1)\n",
    "y_test = y_test.drop(['normal'],axis = 1)"
   ]
  },
  {
   "cell_type": "code",
   "execution_count": 65,
   "metadata": {},
   "outputs": [],
   "source": [
    "xgb_clf= xgboost.XGBClassifier()\n",
    "xgb_clf.fit(X_train,y_train.values.ravel())\n",
    "y_pred = xgb_clf.predict(X_test)"
   ]
  },
  {
   "cell_type": "code",
   "execution_count": 66,
   "metadata": {},
   "outputs": [
    {
     "data": {
      "text/plain": [
       "array([[274456,   9465],\n",
       "       [    13,     85]])"
      ]
     },
     "execution_count": 66,
     "metadata": {},
     "output_type": "execute_result"
    }
   ],
   "source": [
    "from sklearn.metrics import confusion_matrix\n",
    "confusion_matrix(y_test,y_pred)"
   ]
  },
  {
   "cell_type": "code",
   "execution_count": 67,
   "metadata": {
    "scrolled": true
   },
   "outputs": [
    {
     "data": {
      "text/plain": [
       "0.008900523560209424"
      ]
     },
     "execution_count": 67,
     "metadata": {},
     "output_type": "execute_result"
    }
   ],
   "source": [
    "precision_score(y_test,y_pred)"
   ]
  },
  {
   "cell_type": "code",
   "execution_count": 68,
   "metadata": {},
   "outputs": [
    {
     "data": {
      "text/plain": [
       "0.8673469387755102"
      ]
     },
     "execution_count": 68,
     "metadata": {},
     "output_type": "execute_result"
    }
   ],
   "source": [
    "recall_score(y_test,y_pred)"
   ]
  },
  {
   "cell_type": "code",
   "execution_count": 69,
   "metadata": {},
   "outputs": [],
   "source": [
    "from sklearn.metrics import roc_curve"
   ]
  },
  {
   "cell_type": "code",
   "execution_count": 70,
   "metadata": {
    "scrolled": false
   },
   "outputs": [],
   "source": [
    "fpr,tpr, thresholds = roc_curve(y_test,y_pred)"
   ]
  },
  {
   "cell_type": "code",
   "execution_count": 71,
   "metadata": {},
   "outputs": [
    {
     "data": {
      "image/png": "[encoded data removed]",
      "text/plain": [
       "<Figure size 432x288 with 1 Axes>"
      ]
     },
     "metadata": {
      "needs_background": "light"
     },
     "output_type": "display_data"
    }
   ],
   "source": [
    "def plot_roc_curve(fpr,tpr,label = None):\n",
    "    fig, ax = plt.subplots()\n",
    "    roc_auc = metrics.auc(fpr, tpr)\n",
    "    plt.plot(fpr,tpr, linewidth =2,label = f\"ROC AUC {roc_auc:.2%}\")\n",
    "    plt.plot([0, 1], [0, 1], color=\"r\", linestyle=\"--\")\n",
    "    plt.legend()\n",
    "    plt.xlabel(\"False Positive Rate\")\n",
    "    plt.ylabel(\"True Positive Rate\")\n",
    "    plt.title(\"Reciever Operating Characteristic\")\n",
    "    ax.grid()\n",
    "plot_roc_curve(fpr,tpr)\n",
    "plt.show()"
   ]
  },
  {
   "cell_type": "code",
   "execution_count": 73,
   "metadata": {},
   "outputs": [],
   "source": [
    "y_prob_xgb = xgb_clf.predict_proba(X_test)\n",
    "y_prob_xgb_pisitive = y_prob_xgb[:, 1]"
   ]
  },
  {
   "cell_type": "code",
   "execution_count": 74,
   "metadata": {},
   "outputs": [
    {
     "data": {
      "image/png": "[encoded data removed]",
      "text/plain": [
       "<Figure size 432x288 with 1 Axes>"
      ]
     },
     "metadata": {
      "needs_background": "light"
     },
     "output_type": "display_data"
    }
   ],
   "source": [
    "fpr,tpr, thresholds = roc_curve(y_test,y_prob_xgb_pisitive)\n",
    "def plot_roc_curve(fpr,tpr,label = None):\n",
    "    fig, ax = plt.subplots()\n",
    "    roc_auc = metrics.auc(fpr, tpr)\n",
    "    plt.plot(fpr,tpr, linewidth =2,label = f\"ROC AUC {roc_auc:.2%}\")\n",
    "    plt.plot([0, 1], [0, 1], color=\"r\", linestyle=\"--\")\n",
    "    plt.legend()\n",
    "    plt.xlabel(\"False Positive Rate\")\n",
    "    plt.ylabel(\"True Positive Rate\")\n",
    "    plt.title(\"Reciever Operating Characteristic\")\n",
    "    ax.grid()\n",
    "plot_roc_curve(fpr,tpr)\n",
    "plt.show()"
   ]
  }
 ],
 "metadata": {
  "kernelspec": {
   "display_name": "Python 3",
   "language": "python",
   "name": "python3"
  },
  "language_info": {
   "codemirror_mode": {
    "name": "ipython",
    "version": 3
   },
   "file_extension": ".py",
   "mimetype": "text/x-python",
   "name": "python",
   "nbconvert_exporter": "python",
   "pygments_lexer": "ipython3",
   "version": "3.7.1"
  }
 },
 "nbformat": 4,
 "nbformat_minor": 2
}
