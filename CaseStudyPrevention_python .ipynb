{
 "cells": [
  {
   "cell_type": "code",
   "execution_count": 1,
   "metadata": {
    "collapsed": true
   },
   "outputs": [],
   "source": [
    "import xgboost"
   ]
  },
  {
   "cell_type": "code",
   "execution_count": 6,
   "metadata": {
    "scrolled": true
   },
   "outputs": [
    {
     "name": "stdout",
     "output_type": "stream",
     "text": [
      "/Users/monaaghaee/anaconda3/lib/python3.6/site-packages/tensorflow/python/framework/dtypes.py:523: FutureWarning: Passing (type, 1) or '1type' as a synonym of type is deprecated; in a future version of numpy, it will be understood as (type, (1,)) / '(1,)type'.\n",
      "  _np_qint8 = np.dtype([(\"qint8\", np.int8, 1)])\n",
      "/Users/monaaghaee/anaconda3/lib/python3.6/site-packages/tensorflow/python/framework/dtypes.py:524: FutureWarning: Passing (type, 1) or '1type' as a synonym of type is deprecated; in a future version of numpy, it will be understood as (type, (1,)) / '(1,)type'.\n",
      "  _np_quint8 = np.dtype([(\"quint8\", np.uint8, 1)])\n",
      "/Users/monaaghaee/anaconda3/lib/python3.6/site-packages/tensorflow/python/framework/dtypes.py:525: FutureWarning: Passing (type, 1) or '1type' as a synonym of type is deprecated; in a future version of numpy, it will be understood as (type, (1,)) / '(1,)type'.\n",
      "  _np_qint16 = np.dtype([(\"qint16\", np.int16, 1)])\n",
      "/Users/monaaghaee/anaconda3/lib/python3.6/site-packages/tensorflow/python/framework/dtypes.py:526: FutureWarning: Passing (type, 1) or '1type' as a synonym of type is deprecated; in a future version of numpy, it will be understood as (type, (1,)) / '(1,)type'.\n",
      "  _np_quint16 = np.dtype([(\"quint16\", np.uint16, 1)])\n",
      "/Users/monaaghaee/anaconda3/lib/python3.6/site-packages/tensorflow/python/framework/dtypes.py:527: FutureWarning: Passing (type, 1) or '1type' as a synonym of type is deprecated; in a future version of numpy, it will be understood as (type, (1,)) / '(1,)type'.\n",
      "  _np_qint32 = np.dtype([(\"qint32\", np.int32, 1)])\n",
      "/Users/monaaghaee/anaconda3/lib/python3.6/site-packages/tensorflow/python/framework/dtypes.py:532: FutureWarning: Passing (type, 1) or '1type' as a synonym of type is deprecated; in a future version of numpy, it will be understood as (type, (1,)) / '(1,)type'.\n",
      "  np_resource = np.dtype([(\"resource\", np.ubyte, 1)])\n",
      "/Users/monaaghaee/anaconda3/lib/python3.6/site-packages/h5py/__init__.py:34: FutureWarning: Conversion of the second argument of issubdtype from `float` to `np.floating` is deprecated. In future, it will be treated as `np.float64 == np.dtype(float).type`.\n",
      "  from ._conv import register_converters as _register_converters\n",
      "/Users/monaaghaee/anaconda3/lib/python3.6/site-packages/tensorboard/compat/tensorflow_stub/dtypes.py:541: FutureWarning: Passing (type, 1) or '1type' as a synonym of type is deprecated; in a future version of numpy, it will be understood as (type, (1,)) / '(1,)type'.\n",
      "  _np_qint8 = np.dtype([(\"qint8\", np.int8, 1)])\n",
      "/Users/monaaghaee/anaconda3/lib/python3.6/site-packages/tensorboard/compat/tensorflow_stub/dtypes.py:542: FutureWarning: Passing (type, 1) or '1type' as a synonym of type is deprecated; in a future version of numpy, it will be understood as (type, (1,)) / '(1,)type'.\n",
      "  _np_quint8 = np.dtype([(\"quint8\", np.uint8, 1)])\n",
      "/Users/monaaghaee/anaconda3/lib/python3.6/site-packages/tensorboard/compat/tensorflow_stub/dtypes.py:543: FutureWarning: Passing (type, 1) or '1type' as a synonym of type is deprecated; in a future version of numpy, it will be understood as (type, (1,)) / '(1,)type'.\n",
      "  _np_qint16 = np.dtype([(\"qint16\", np.int16, 1)])\n",
      "/Users/monaaghaee/anaconda3/lib/python3.6/site-packages/tensorboard/compat/tensorflow_stub/dtypes.py:544: FutureWarning: Passing (type, 1) or '1type' as a synonym of type is deprecated; in a future version of numpy, it will be understood as (type, (1,)) / '(1,)type'.\n",
      "  _np_quint16 = np.dtype([(\"quint16\", np.uint16, 1)])\n",
      "/Users/monaaghaee/anaconda3/lib/python3.6/site-packages/tensorboard/compat/tensorflow_stub/dtypes.py:545: FutureWarning: Passing (type, 1) or '1type' as a synonym of type is deprecated; in a future version of numpy, it will be understood as (type, (1,)) / '(1,)type'.\n",
      "  _np_qint32 = np.dtype([(\"qint32\", np.int32, 1)])\n",
      "/Users/monaaghaee/anaconda3/lib/python3.6/site-packages/tensorboard/compat/tensorflow_stub/dtypes.py:550: FutureWarning: Passing (type, 1) or '1type' as a synonym of type is deprecated; in a future version of numpy, it will be understood as (type, (1,)) / '(1,)type'.\n",
      "  np_resource = np.dtype([(\"resource\", np.ubyte, 1)])\n",
      "usage: tf_upgrade_v2 [-h] [--infile INPUT_FILE] [--outfile OUTPUT_FILE]\n",
      "                     [--intree INPUT_TREE] [--outtree OUTPUT_TREE]\n",
      "                     [--copyotherfiles COPY_OTHER_FILES] [--inplace]\n",
      "                     [--reportfile REPORT_FILENAME]\n",
      "\n",
      "Convert a TensorFlow Python file from 1.x to 2.0\n",
      "\n",
      "Simple usage:\n",
      "  tf_upgrade_v2.py --infile foo.py --outfile bar.py\n",
      "  tf_upgrade_v2.py --infile foo.ipynb --outfile bar.ipynb\n",
      "  tf_upgrade_v2.py --intree ~/code/old --outtree ~/code/new\n",
      "\n",
      "optional arguments:\n",
      "  -h, --help            show this help message and exit\n",
      "  --infile INPUT_FILE   If converting a single file, the name of the file to\n",
      "                        convert\n",
      "  --outfile OUTPUT_FILE\n",
      "                        If converting a single file, the output filename.\n",
      "  --intree INPUT_TREE   If converting a whole tree of files, the directory to\n",
      "                        read from (relative or absolute).\n",
      "  --outtree OUTPUT_TREE\n",
      "                        If converting a whole tree of files, the output\n",
      "                        directory (relative or absolute).\n",
      "  --copyotherfiles COPY_OTHER_FILES\n",
      "                        If converting a whole tree of files, whether to copy\n",
      "                        the other files.\n",
      "  --inplace             If converting a set of files, whether to allow the\n",
      "                        conversion to be performed on the input files.\n",
      "  --reportfile REPORT_FILENAME\n",
      "                        The name of the file where the report log is\n",
      "                        stored.(default: report.txt)\n"
     ]
    }
   ],
   "source": [
    "!tf_upgrade_v2"
   ]
  },
  {
   "cell_type": "code",
   "execution_count": 7,
   "metadata": {},
   "outputs": [],
   "source": [
    "import pandas as pd\n",
    "import seaborn as sns\n",
    "import matplotlib.pyplot as plt\n",
    "import pylab\n",
    "import pandas as pd\n",
    "import numpy as np\n",
    "import matplotlib.pyplot as plt\n",
    "import sklearn\n",
    "import numpy as np\n",
    "import tensorflow as tf\n",
    "from sklearn.model_selection import train_test_split\n",
    "import matplotlib.gridspec as gridspec\n",
    "import math\n",
    "from sklearn.preprocessing import StandardScaler\n",
    "from sklearn.utils import shuffle\n",
    "import datetime"
   ]
  },
  {
   "cell_type": "code",
   "execution_count": 8,
   "metadata": {},
   "outputs": [
    {
     "name": "stdout",
     "output_type": "stream",
     "text": [
      "<class 'pandas.core.frame.DataFrame'>\n",
      "RangeIndex: 284807 entries, 0 to 284806\n",
      "Data columns (total 31 columns):\n",
      "Time      284807 non-null float64\n",
      "V1        284807 non-null float64\n",
      "V2        284807 non-null float64\n",
      "V3        284807 non-null float64\n",
      "V4        284807 non-null float64\n",
      "V5        284807 non-null float64\n",
      "V6        284807 non-null float64\n",
      "V7        284807 non-null float64\n",
      "V8        284807 non-null float64\n",
      "V9        284807 non-null float64\n",
      "V10       284807 non-null float64\n",
      "V11       284807 non-null float64\n",
      "V12       284807 non-null float64\n",
      "V13       284807 non-null float64\n",
      "V14       284807 non-null float64\n",
      "V15       284807 non-null float64\n",
      "V16       284807 non-null float64\n",
      "V17       284807 non-null float64\n",
      "V18       284807 non-null float64\n",
      "V19       284807 non-null float64\n",
      "V20       284807 non-null float64\n",
      "V21       284807 non-null float64\n",
      "V22       284807 non-null float64\n",
      "V23       284807 non-null float64\n",
      "V24       284807 non-null float64\n",
      "V25       284807 non-null float64\n",
      "V26       284807 non-null float64\n",
      "V27       284807 non-null float64\n",
      "V28       284807 non-null float64\n",
      "Amount    284807 non-null float64\n",
      "Class     284807 non-null int64\n",
      "dtypes: float64(30), int64(1)\n",
      "memory usage: 67.4 MB\n"
     ]
    }
   ],
   "source": [
    "data = pd.read_csv(\"creditcard.csv\")\n",
    "data.info()"
   ]
  },
  {
   "cell_type": "code",
   "execution_count": 9,
   "metadata": {},
   "outputs": [
    {
     "name": "stdout",
     "output_type": "stream",
     "text": [
      "<class 'pandas.core.frame.DataFrame'>\n",
      "RangeIndex: 284807 entries, 0 to 284806\n",
      "Data columns (total 31 columns):\n",
      "Time      284807 non-null float64\n",
      "V1        284807 non-null float64\n",
      "V2        284807 non-null float64\n",
      "V3        284807 non-null float64\n",
      "V4        284807 non-null float64\n",
      "V5        284807 non-null float64\n",
      "V6        284807 non-null float64\n",
      "V7        284807 non-null float64\n",
      "V8        284807 non-null float64\n",
      "V9        284807 non-null float64\n",
      "V10       284807 non-null float64\n",
      "V11       284807 non-null float64\n",
      "V12       284807 non-null float64\n",
      "V13       284807 non-null float64\n",
      "V14       284807 non-null float64\n",
      "V15       284807 non-null float64\n",
      "V16       284807 non-null float64\n",
      "V17       284807 non-null float64\n",
      "V18       284807 non-null float64\n",
      "V19       284807 non-null float64\n",
      "V20       284807 non-null float64\n",
      "V21       284807 non-null float64\n",
      "V22       284807 non-null float64\n",
      "V23       284807 non-null float64\n",
      "V24       284807 non-null float64\n",
      "V25       284807 non-null float64\n",
      "V26       284807 non-null float64\n",
      "V27       284807 non-null float64\n",
      "V28       284807 non-null float64\n",
      "Amount    284807 non-null float64\n",
      "Class     284807 non-null int64\n",
      "dtypes: float64(30), int64(1)\n",
      "memory usage: 67.4 MB\n"
     ]
    }
   ],
   "source": [
    "data.info()"
   ]
  },
  {
   "cell_type": "code",
   "execution_count": 10,
   "metadata": {},
   "outputs": [
    {
     "data": {
      "text/plain": [
       "(284807, 31)"
      ]
     },
     "execution_count": 10,
     "metadata": {},
     "output_type": "execute_result"
    }
   ],
   "source": [
    "data.shape"
   ]
  },
  {
   "cell_type": "code",
   "execution_count": 11,
   "metadata": {},
   "outputs": [
    {
     "data": {
      "image/png": "[encoded data removed]",
      "text/plain": [
       "<matplotlib.figure.Figure at 0x12ffe3860>"
      ]
     },
     "metadata": {},
     "output_type": "display_data"
    }
   ],
   "source": [
    "import matplotlib.pyplot as plt\n",
    "import pylab\n",
    "data['Class'].value_counts().plot(kind='bar')\n",
    "\n",
    "plt.show()"
   ]
  },
  {
   "cell_type": "code",
   "execution_count": 12,
   "metadata": {},
   "outputs": [
    {
     "data": {
      "text/plain": [
       "Time      0\n",
       "V1        0\n",
       "V2        0\n",
       "V3        0\n",
       "V4        0\n",
       "V5        0\n",
       "V6        0\n",
       "V7        0\n",
       "V8        0\n",
       "V9        0\n",
       "V10       0\n",
       "V11       0\n",
       "V12       0\n",
       "V13       0\n",
       "V14       0\n",
       "V15       0\n",
       "V16       0\n",
       "V17       0\n",
       "V18       0\n",
       "V19       0\n",
       "V20       0\n",
       "V21       0\n",
       "V22       0\n",
       "V23       0\n",
       "V24       0\n",
       "V25       0\n",
       "V26       0\n",
       "V27       0\n",
       "V28       0\n",
       "Amount    0\n",
       "Class     0\n",
       "dtype: int64"
      ]
     },
     "execution_count": 12,
     "metadata": {},
     "output_type": "execute_result"
    }
   ],
   "source": [
    "data.isnull().sum()"
   ]
  },
  {
   "cell_type": "code",
   "execution_count": 13,
   "metadata": {
    "collapsed": true
   },
   "outputs": [],
   "source": [
    "import pandas as pd\n",
    "import numpy as np\n",
    "import matplotlib.pyplot as plt\n",
    "import sklearn\n",
    "import numpy as np\n",
    "import tensorflow as tf\n",
    "from sklearn.model_selection import train_test_split\n",
    "import matplotlib.gridspec as gridspec\n",
    "import math\n",
    "from sklearn.metrics import confusion_matrix\n"
   ]
  },
  {
   "cell_type": "code",
   "execution_count": 14,
   "metadata": {
    "collapsed": true
   },
   "outputs": [],
   "source": [
    "#x_train,x_test,y_train,y_test = train_test_split(x,y,test_size = 0.3 , random_state=42, stratify=y)"
   ]
  },
  {
   "cell_type": "code",
   "execution_count": 15,
   "metadata": {
    "collapsed": true
   },
   "outputs": [],
   "source": [
    "#create column for non-fraud transaction\n",
    "data.loc[data.Class == 0 ,'normal'] = 1\n",
    "data.loc[data.Class == 1 ,'normal'] = 0"
   ]
  },
  {
   "cell_type": "code",
   "execution_count": 16,
   "metadata": {
    "collapsed": true
   },
   "outputs": [],
   "source": [
    "#rename Class to fraud\n",
    "\n",
    "data = data.rename(columns={'Class' : 'fraud' })"
   ]
  },
  {
   "cell_type": "code",
   "execution_count": 17,
   "metadata": {
    "collapsed": true
   },
   "outputs": [],
   "source": [
    "from sklearn.preprocessing import StandardScaler\n",
    "\n",
    "data['normAmount'] = StandardScaler().fit_transform(data['Amount'].values.reshape(-1, 1))"
   ]
  },
  {
   "cell_type": "code",
   "execution_count": 18,
   "metadata": {
    "collapsed": true
   },
   "outputs": [],
   "source": [
    "data = data.drop(['Time','Amount'],axis=1)"
   ]
  },
  {
   "cell_type": "code",
   "execution_count": 19,
   "metadata": {
    "collapsed": true
   },
   "outputs": [],
   "source": [
    "fraud = data[data.fraud==1]\n",
    "normal = data[data.normal==1]"
   ]
  },
  {
   "cell_type": "code",
   "execution_count": 20,
   "metadata": {
    "scrolled": true
   },
   "outputs": [
    {
     "data": {
      "text/plain": [
       "(492, 31)"
      ]
     },
     "execution_count": 20,
     "metadata": {},
     "output_type": "execute_result"
    }
   ],
   "source": [
    "fraud.shape"
   ]
  },
  {
   "cell_type": "code",
   "execution_count": 21,
   "metadata": {},
   "outputs": [
    {
     "data": {
      "text/plain": [
       "(284315, 31)"
      ]
     },
     "execution_count": 21,
     "metadata": {},
     "output_type": "execute_result"
    }
   ],
   "source": [
    "normal.shape"
   ]
  },
  {
   "cell_type": "code",
   "execution_count": 22,
   "metadata": {
    "collapsed": true
   },
   "outputs": [],
   "source": [
    "from sklearn.utils import resample\n",
    "normal= resample(normal, \n",
    "                                 replace=False,    # sample without replacement\n",
    "                                 n_samples=492,     # to match minority class\n",
    "                                 random_state=123) # reproducible results"
   ]
  },
  {
   "cell_type": "code",
   "execution_count": 23,
   "metadata": {
    "scrolled": true
   },
   "outputs": [
    {
     "data": {
      "text/html": [
       "<div>\n",
       "<style scoped>\n",
       "    .dataframe tbody tr th:only-of-type {\n",
       "        vertical-align: middle;\n",
       "    }\n",
       "\n",
       "    .dataframe tbody tr th {\n",
       "        vertical-align: top;\n",
       "    }\n",
       "\n",
       "    .dataframe thead th {\n",
       "        text-align: right;\n",
       "    }\n",
       "</style>\n",
       "<table border=\"1\" class=\"dataframe\">\n",
       "  <thead>\n",
       "    <tr style=\"text-align: right;\">\n",
       "      <th></th>\n",
       "      <th>V1</th>\n",
       "      <th>V2</th>\n",
       "      <th>V3</th>\n",
       "      <th>V4</th>\n",
       "      <th>V5</th>\n",
       "      <th>V6</th>\n",
       "      <th>V7</th>\n",
       "      <th>V8</th>\n",
       "      <th>V9</th>\n",
       "      <th>V10</th>\n",
       "      <th>...</th>\n",
       "      <th>V22</th>\n",
       "      <th>V23</th>\n",
       "      <th>V24</th>\n",
       "      <th>V25</th>\n",
       "      <th>V26</th>\n",
       "      <th>V27</th>\n",
       "      <th>V28</th>\n",
       "      <th>fraud</th>\n",
       "      <th>normal</th>\n",
       "      <th>normAmount</th>\n",
       "    </tr>\n",
       "  </thead>\n",
       "  <tbody>\n",
       "    <tr>\n",
       "      <th>0</th>\n",
       "      <td>-1.359807</td>\n",
       "      <td>-0.072781</td>\n",
       "      <td>2.536347</td>\n",
       "      <td>1.378155</td>\n",
       "      <td>-0.338321</td>\n",
       "      <td>0.462388</td>\n",
       "      <td>0.239599</td>\n",
       "      <td>0.098698</td>\n",
       "      <td>0.363787</td>\n",
       "      <td>0.090794</td>\n",
       "      <td>...</td>\n",
       "      <td>0.277838</td>\n",
       "      <td>-0.110474</td>\n",
       "      <td>0.066928</td>\n",
       "      <td>0.128539</td>\n",
       "      <td>-0.189115</td>\n",
       "      <td>0.133558</td>\n",
       "      <td>-0.021053</td>\n",
       "      <td>0</td>\n",
       "      <td>1.0</td>\n",
       "      <td>0.244964</td>\n",
       "    </tr>\n",
       "    <tr>\n",
       "      <th>1</th>\n",
       "      <td>1.191857</td>\n",
       "      <td>0.266151</td>\n",
       "      <td>0.166480</td>\n",
       "      <td>0.448154</td>\n",
       "      <td>0.060018</td>\n",
       "      <td>-0.082361</td>\n",
       "      <td>-0.078803</td>\n",
       "      <td>0.085102</td>\n",
       "      <td>-0.255425</td>\n",
       "      <td>-0.166974</td>\n",
       "      <td>...</td>\n",
       "      <td>-0.638672</td>\n",
       "      <td>0.101288</td>\n",
       "      <td>-0.339846</td>\n",
       "      <td>0.167170</td>\n",
       "      <td>0.125895</td>\n",
       "      <td>-0.008983</td>\n",
       "      <td>0.014724</td>\n",
       "      <td>0</td>\n",
       "      <td>1.0</td>\n",
       "      <td>-0.342475</td>\n",
       "    </tr>\n",
       "    <tr>\n",
       "      <th>2</th>\n",
       "      <td>-1.358354</td>\n",
       "      <td>-1.340163</td>\n",
       "      <td>1.773209</td>\n",
       "      <td>0.379780</td>\n",
       "      <td>-0.503198</td>\n",
       "      <td>1.800499</td>\n",
       "      <td>0.791461</td>\n",
       "      <td>0.247676</td>\n",
       "      <td>-1.514654</td>\n",
       "      <td>0.207643</td>\n",
       "      <td>...</td>\n",
       "      <td>0.771679</td>\n",
       "      <td>0.909412</td>\n",
       "      <td>-0.689281</td>\n",
       "      <td>-0.327642</td>\n",
       "      <td>-0.139097</td>\n",
       "      <td>-0.055353</td>\n",
       "      <td>-0.059752</td>\n",
       "      <td>0</td>\n",
       "      <td>1.0</td>\n",
       "      <td>1.160686</td>\n",
       "    </tr>\n",
       "    <tr>\n",
       "      <th>3</th>\n",
       "      <td>-0.966272</td>\n",
       "      <td>-0.185226</td>\n",
       "      <td>1.792993</td>\n",
       "      <td>-0.863291</td>\n",
       "      <td>-0.010309</td>\n",
       "      <td>1.247203</td>\n",
       "      <td>0.237609</td>\n",
       "      <td>0.377436</td>\n",
       "      <td>-1.387024</td>\n",
       "      <td>-0.054952</td>\n",
       "      <td>...</td>\n",
       "      <td>0.005274</td>\n",
       "      <td>-0.190321</td>\n",
       "      <td>-1.175575</td>\n",
       "      <td>0.647376</td>\n",
       "      <td>-0.221929</td>\n",
       "      <td>0.062723</td>\n",
       "      <td>0.061458</td>\n",
       "      <td>0</td>\n",
       "      <td>1.0</td>\n",
       "      <td>0.140534</td>\n",
       "    </tr>\n",
       "    <tr>\n",
       "      <th>4</th>\n",
       "      <td>-1.158233</td>\n",
       "      <td>0.877737</td>\n",
       "      <td>1.548718</td>\n",
       "      <td>0.403034</td>\n",
       "      <td>-0.407193</td>\n",
       "      <td>0.095921</td>\n",
       "      <td>0.592941</td>\n",
       "      <td>-0.270533</td>\n",
       "      <td>0.817739</td>\n",
       "      <td>0.753074</td>\n",
       "      <td>...</td>\n",
       "      <td>0.798278</td>\n",
       "      <td>-0.137458</td>\n",
       "      <td>0.141267</td>\n",
       "      <td>-0.206010</td>\n",
       "      <td>0.502292</td>\n",
       "      <td>0.219422</td>\n",
       "      <td>0.215153</td>\n",
       "      <td>0</td>\n",
       "      <td>1.0</td>\n",
       "      <td>-0.073403</td>\n",
       "    </tr>\n",
       "  </tbody>\n",
       "</table>\n",
       "<p>5 rows × 31 columns</p>\n",
       "</div>"
      ],
      "text/plain": [
       "         V1        V2        V3        V4        V5        V6        V7  \\\n",
       "0 -1.359807 -0.072781  2.536347  1.378155 -0.338321  0.462388  0.239599   \n",
       "1  1.191857  0.266151  0.166480  0.448154  0.060018 -0.082361 -0.078803   \n",
       "2 -1.358354 -1.340163  1.773209  0.379780 -0.503198  1.800499  0.791461   \n",
       "3 -0.966272 -0.185226  1.792993 -0.863291 -0.010309  1.247203  0.237609   \n",
       "4 -1.158233  0.877737  1.548718  0.403034 -0.407193  0.095921  0.592941   \n",
       "\n",
       "         V8        V9       V10     ...           V22       V23       V24  \\\n",
       "0  0.098698  0.363787  0.090794     ...      0.277838 -0.110474  0.066928   \n",
       "1  0.085102 -0.255425 -0.166974     ...     -0.638672  0.101288 -0.339846   \n",
       "2  0.247676 -1.514654  0.207643     ...      0.771679  0.909412 -0.689281   \n",
       "3  0.377436 -1.387024 -0.054952     ...      0.005274 -0.190321 -1.175575   \n",
       "4 -0.270533  0.817739  0.753074     ...      0.798278 -0.137458  0.141267   \n",
       "\n",
       "        V25       V26       V27       V28  fraud  normal  normAmount  \n",
       "0  0.128539 -0.189115  0.133558 -0.021053      0     1.0    0.244964  \n",
       "1  0.167170  0.125895 -0.008983  0.014724      0     1.0   -0.342475  \n",
       "2 -0.327642 -0.139097 -0.055353 -0.059752      0     1.0    1.160686  \n",
       "3  0.647376 -0.221929  0.062723  0.061458      0     1.0    0.140534  \n",
       "4 -0.206010  0.502292  0.219422  0.215153      0     1.0   -0.073403  \n",
       "\n",
       "[5 rows x 31 columns]"
      ]
     },
     "execution_count": 23,
     "metadata": {},
     "output_type": "execute_result"
    }
   ],
   "source": [
    "data.head()"
   ]
  },
  {
   "cell_type": "code",
   "execution_count": 24,
   "metadata": {
    "collapsed": true
   },
   "outputs": [],
   "source": [
    "#test and training data before undersampling\n",
    "\n",
    "# Set X_train equal to 80% of the fraudulent transactions.\n",
    "X_train = fraud.sample(frac=0.8)\n",
    "\n",
    "\n",
    "count_Frauds = len(X_train)\n",
    "\n",
    "# Add 80% of the normal transactions to X_train.\n",
    "X_train = pd.concat([X_train, normal.sample(frac = 0.8)], axis = 0)\n",
    "\n",
    "# X_test contains all the transaction not in X_train.\n",
    "X_test = data.loc[~data.index.isin(X_train.index)]"
   ]
  },
  {
   "cell_type": "code",
   "execution_count": 25,
   "metadata": {
    "collapsed": true
   },
   "outputs": [],
   "source": [
    "from sklearn.utils import shuffle\n",
    "#Shuffle the dataframes so that the training is done in a random order.\n",
    "X_train = shuffle(X_train)\n",
    "X_test = shuffle(X_test)"
   ]
  },
  {
   "cell_type": "code",
   "execution_count": 26,
   "metadata": {
    "collapsed": true
   },
   "outputs": [],
   "source": [
    "#Add our target features to y_train and y_test.\n",
    "y_train = X_train.fraud\n",
    "y_train = pd.concat([y_train, X_train.normal], axis=1)\n",
    "\n",
    "y_test = X_test.fraud\n",
    "y_test = pd.concat([y_test, X_test.normal], axis=1)"
   ]
  },
  {
   "cell_type": "code",
   "execution_count": 27,
   "metadata": {
    "collapsed": true
   },
   "outputs": [],
   "source": [
    "#Drop target features from X_train and X_test.\n",
    "X_train = X_train.drop(['fraud','normal'], axis = 1)\n",
    "X_test = X_test.drop(['fraud','normal'], axis = 1)"
   ]
  },
  {
   "cell_type": "code",
   "execution_count": 28,
   "metadata": {},
   "outputs": [
    {
     "data": {
      "text/plain": [
       "(788, 29)"
      ]
     },
     "execution_count": 28,
     "metadata": {},
     "output_type": "execute_result"
    }
   ],
   "source": [
    "X_train.shape"
   ]
  },
  {
   "cell_type": "code",
   "execution_count": 199,
   "metadata": {
    "collapsed": true
   },
   "outputs": [],
   "source": [
    "# Split the testing data into validation and testing sets\n",
    "#split = int(len(y_test)/2)\n",
    "\n",
    "\n",
    "#X_input_valid = X_test.as_matrix()[:split]\n",
    "#Y_input_valid = y_test.as_matrix()[:split]\n",
    "\n",
    "#X_input_test = X_test.as_matrix()[split:]\n",
    "#y_input_test = y_test.as_matrix()[split:]"
   ]
  },
  {
   "cell_type": "code",
   "execution_count": 29,
   "metadata": {
    "collapsed": true
   },
   "outputs": [],
   "source": [
    "x_input_train = X_train.values\n",
    "y_input_train = y_train.values\n",
    "\n",
    "x_input_test = X_test.values\n",
    "y_input_test =y_test.values\n",
    "\n"
   ]
  },
  {
   "cell_type": "code",
   "execution_count": 30,
   "metadata": {},
   "outputs": [
    {
     "data": {
      "text/plain": [
       "(788, 29)"
      ]
     },
     "execution_count": 30,
     "metadata": {},
     "output_type": "execute_result"
    }
   ],
   "source": [
    "X_train.shape"
   ]
  },
  {
   "cell_type": "code",
   "execution_count": 31,
   "metadata": {},
   "outputs": [
    {
     "data": {
      "text/plain": [
       "(284019, 29)"
      ]
     },
     "execution_count": 31,
     "metadata": {},
     "output_type": "execute_result"
    }
   ],
   "source": [
    "X_test.shape"
   ]
  },
  {
   "cell_type": "code",
   "execution_count": 32,
   "metadata": {},
   "outputs": [
    {
     "data": {
      "text/plain": [
       "(788, 2)"
      ]
     },
     "execution_count": 32,
     "metadata": {},
     "output_type": "execute_result"
    }
   ],
   "source": [
    "y_train.shape"
   ]
  },
  {
   "cell_type": "code",
   "execution_count": 33,
   "metadata": {},
   "outputs": [
    {
     "data": {
      "text/plain": [
       "(284019, 2)"
      ]
     },
     "execution_count": 33,
     "metadata": {},
     "output_type": "execute_result"
    }
   ],
   "source": [
    "y_test.shape"
   ]
  },
  {
   "cell_type": "code",
   "execution_count": 34,
   "metadata": {
    "collapsed": true
   },
   "outputs": [],
   "source": [
    "#Define parameters for the model\n",
    "\n",
    "learning_rate = 0.01\n",
    "batch_size = 100\n",
    "\n",
    "\n"
   ]
  },
  {
   "cell_type": "code",
   "execution_count": 35,
   "metadata": {},
   "outputs": [
    {
     "name": "stderr",
     "output_type": "stream",
     "text": [
      "WARNING: Logging before flag parsing goes to stderr.\n",
      "W0222 11:56:45.147356 4587984320 deprecation.py:323] From /Users/monaaghaee/anaconda3/lib/python3.6/site-packages/tensorflow/python/compat/v2_compat.py:63: disable_resource_variables (from tensorflow.python.ops.variable_scope) is deprecated and will be removed in a future version.\n",
      "Instructions for updating:\n",
      "non-resource variables are not supported in the long term\n"
     ]
    }
   ],
   "source": [
    "import tensorflow.compat.v1 as tf\n",
    "tf.disable_v2_behavior()"
   ]
  },
  {
   "cell_type": "code",
   "execution_count": 36,
   "metadata": {
    "collapsed": true
   },
   "outputs": [],
   "source": [
    "#create placehoder for features and labels\n",
    "\n",
    "X = tf.placeholder(tf.float32,[None,29],name ='X_placehohder')\n",
    "Y = tf.placeholder(tf.float32,[None,2],name ='y_placehohder')"
   ]
  },
  {
   "cell_type": "code",
   "execution_count": 37,
   "metadata": {
    "collapsed": true
   },
   "outputs": [],
   "source": [
    "num_classes = 2\n",
    "num_features = 29"
   ]
  },
  {
   "cell_type": "code",
   "execution_count": 47,
   "metadata": {
    "collapsed": true
   },
   "outputs": [],
   "source": [
    "#inputs : placehoders, from inputs\n",
    "#hidden1 :size of the first hidden layer\n",
    "#hidden2 : size of the second hidden layer\n",
    "# ...fun\n",
    "feature_num = 29\n",
    "hidden1_unit =10\n",
    "hidden2_unit =10\n",
    "hidden3_unit =10\n",
    "#hidden4_unit =10\n",
    "hidden5_unit =10\n",
    "weights1 = tf.Variable(tf.truncated_normal([29,hidden1_unit],stddev=1.0/math.sqrt(float(feature_num))),name = 'weights')\n",
    "biases = tf.Variable(tf.zeros(hidden1_unit),name = 'biases')\n",
    "hidden1 = tf.nn.sigmoid(tf.matmul(X,weights1)+biases)\n",
    "hidden1 = tf.nn.dropout(hidden1, rate =0.5)\n",
    "        \n",
    "weights2 = tf.Variable(tf.truncated_normal([hidden1_unit,hidden2_unit],stddev=1.0/math.sqrt(float(hidden1_unit))),name = 'weights')\n",
    "biases = tf.Variable(tf.zeros(hidden2_unit),name = 'biases')\n",
    "hidden2 = tf.nn.sigmoid(tf.matmul(hidden1,weights2)+biases)  \n",
    "hidden2 = tf.nn.dropout(hidden2, rate =0.5)        \n",
    "        \n",
    "\n",
    "weights3 = tf.Variable(tf.truncated_normal([hidden2_unit,hidden3_unit],stddev=1.0/math.sqrt(float(hidden2_unit))),name = 'weights')\n",
    "biases3 = tf.Variable(tf.zeros(hidden3_unit),name = 'biases')\n",
    "hidden3 = tf.nn.sigmoid(tf.matmul(hidden2,weights3)+biases3) \n",
    "hidden3 = tf.nn.dropout(hidden3,rate = 0.5)\n",
    "        \n",
    "        \n",
    "        \n",
    "#linear\n",
    "\n",
    "weights5 = tf.Variable(tf.truncated_normal([hidden3_unit,num_classes],stddev=0.1/math.sqrt(float(hidden5_unit))),name = 'weights')\n",
    "biases5 = tf.Variable(tf.zeros([num_classes]),name = 'biases')\n",
    "logits = tf.nn.softmax(tf.matmul(hidden3,weights5) + biases5)\n",
    "        \n",
    "\n",
    "\n",
    "#labels = tf.to_int32(Y)\n",
    "\n",
    "#reg = tf.nn.l2_loss(weights1) + tf.nn.l2_loss(weights2) + tf.nn.l2_loss(weights3) + tf.nn.l2_loss(weights5)\n",
    "#loss = tf.reduce_mean(tf.nn.softmax_cross_entropy_with_logits(labels =  Y , logits = logits, name = 'xentropy'))\n",
    "#loss = tf.reduce_mean(loss + reg * 0.01)\n",
    "\n",
    "loss = tf.cast((tf.reduce_mean(tf.nn.softmax_cross_entropy_with_logits(\n",
    "    logits=logits, labels=Y)) +\n",
    "    0.01*tf.nn.l2_loss(weights1) +\n",
    "    0.01*tf.nn.l2_loss(biases) +\n",
    "    0.01*tf.nn.l2_loss(weights5) +\n",
    "    0.01*tf.nn.l2_loss(biases5)) ,tf.float32)     \n",
    "\n",
    "\n",
    "optimizer = tf.train.AdamOptimizer(learning_rate).minimize(loss)\n",
    "        \n",
    "correct_prediction = tf.equal(tf.argmax(logits,1),tf.argmax(Y,1))\n",
    "#compute accuracy \n",
    "accuracy = tf.reduce_mean (tf.cast(correct_prediction,tf.float32))\n",
    "\n",
    "        \n",
    "    \n",
    "    "
   ]
  },
  {
   "cell_type": "code",
   "execution_count": 48,
   "metadata": {
    "collapsed": true
   },
   "outputs": [],
   "source": [
    "import numpy as np\n",
    "\n",
    "def next_batch(num, data, labels):\n",
    "    '''\n",
    "    Return a total of `num` random samples and labels. \n",
    "    '''\n",
    "    idx = np.arange(0 , len(data))\n",
    "    np.random.shuffle(idx)\n",
    "    idx = idx[:num]\n",
    "    data_shuffle = [data[ i] for i in idx]\n",
    "    labels_shuffle = [labels[ i] for i in idx]\n",
    "\n",
    "    return np.asarray(data_shuffle), np.asarray(labels_shuffle)"
   ]
  },
  {
   "cell_type": "code",
   "execution_count": 49,
   "metadata": {
    "collapsed": true
   },
   "outputs": [],
   "source": [
    "#correct_prediction = tf.equal(tf.arg_max(logits,1),tf.arg_max(Y,1))\n",
    "train_predictions = tf.nn.softmax(logits)"
   ]
  },
  {
   "cell_type": "code",
   "execution_count": 50,
   "metadata": {},
   "outputs": [
    {
     "name": "stdout",
     "output_type": "stream",
     "text": [
      "Initialized\n",
      "step: 0\n",
      "model training accuracy:\n",
      "0.53\n",
      "model test accuracy:\n",
      "0.24144511\n",
      "step: 50\n",
      "model training accuracy:\n",
      "0.71\n",
      "model test accuracy:\n",
      "0.741968\n",
      "step: 100\n",
      "model training accuracy:\n",
      "0.87\n",
      "model test accuracy:\n",
      "0.89550346\n",
      "step: 150\n",
      "model training accuracy:\n",
      "0.9\n",
      "model test accuracy:\n",
      "0.9100236\n",
      "step: 200\n",
      "model training accuracy:\n",
      "0.89\n",
      "model test accuracy:\n",
      "0.91094965\n",
      "step: 250\n",
      "model training accuracy:\n",
      "0.88\n",
      "model test accuracy:\n",
      "0.9240861\n",
      "step: 300\n",
      "model training accuracy:\n",
      "0.9\n",
      "model test accuracy:\n",
      "0.93283546\n",
      "step: 350\n",
      "model training accuracy:\n",
      "0.91\n",
      "model test accuracy:\n",
      "0.9334798\n",
      "step: 400\n",
      "model training accuracy:\n",
      "0.88\n",
      "model test accuracy:\n",
      "0.94598603\n",
      "step: 450\n",
      "model training accuracy:\n",
      "0.87\n",
      "model test accuracy:\n",
      "0.9452361\n",
      "step: 500\n",
      "model training accuracy:\n",
      "0.95\n",
      "model test accuracy:\n",
      "0.93184966\n",
      "step: 550\n",
      "model training accuracy:\n",
      "0.92\n",
      "model test accuracy:\n",
      "0.9242058\n",
      "step: 600\n",
      "model training accuracy:\n",
      "0.91\n",
      "model test accuracy:\n",
      "0.9240297\n",
      "step: 650\n",
      "model training accuracy:\n",
      "0.88\n",
      "model test accuracy:\n",
      "0.94265527\n",
      "step: 700\n",
      "model training accuracy:\n",
      "0.91\n",
      "model test accuracy:\n",
      "0.9242093\n",
      "step: 750\n",
      "model training accuracy:\n",
      "0.89\n",
      "model test accuracy:\n",
      "0.9205159\n",
      "step: 800\n",
      "model training accuracy:\n",
      "0.86\n",
      "model test accuracy:\n",
      "0.94891185\n",
      "step: 850\n",
      "model training accuracy:\n",
      "0.89\n",
      "model test accuracy:\n",
      "0.9443453\n",
      "step: 900\n",
      "model training accuracy:\n",
      "0.87\n",
      "model test accuracy:\n",
      "0.94250387\n",
      "step: 950\n",
      "model training accuracy:\n",
      "0.91\n",
      "model test accuracy:\n",
      "0.9429616\n",
      "step: 1000\n",
      "model training accuracy:\n",
      "0.89\n",
      "model test accuracy:\n",
      "0.9260014\n",
      "step: 1050\n",
      "model training accuracy:\n",
      "0.92\n",
      "model test accuracy:\n",
      "0.9173576\n",
      "step: 1100\n",
      "model training accuracy:\n",
      "0.93\n",
      "model test accuracy:\n",
      "0.92169535\n",
      "step: 1150\n",
      "model training accuracy:\n",
      "0.9\n",
      "model test accuracy:\n",
      "0.94592965\n",
      "step: 1200\n",
      "model training accuracy:\n",
      "0.88\n",
      "model test accuracy:\n",
      "0.9417539\n",
      "step: 1250\n",
      "model training accuracy:\n",
      "0.94\n",
      "model test accuracy:\n",
      "0.9477218\n",
      "step: 1300\n",
      "model training accuracy:\n",
      "0.87\n",
      "model test accuracy:\n",
      "0.95108074\n",
      "step: 1350\n",
      "model training accuracy:\n",
      "0.9\n",
      "model test accuracy:\n",
      "0.94929916\n",
      "step: 1400\n",
      "model training accuracy:\n",
      "0.84\n",
      "model test accuracy:\n",
      "0.9251987\n",
      "step: 1450\n",
      "model training accuracy:\n",
      "0.9\n",
      "model test accuracy:\n",
      "0.94244045\n",
      "step: 1500\n",
      "model training accuracy:\n",
      "0.86\n",
      "model test accuracy:\n",
      "0.9485668\n",
      "step: 1550\n",
      "model training accuracy:\n",
      "0.85\n",
      "model test accuracy:\n",
      "0.9254557\n",
      "step: 1600\n",
      "model training accuracy:\n",
      "0.91\n",
      "model test accuracy:\n",
      "0.92462474\n",
      "step: 1650\n",
      "model training accuracy:\n",
      "0.9\n",
      "model test accuracy:\n",
      "0.93288124\n",
      "step: 1700\n",
      "model training accuracy:\n",
      "0.88\n",
      "model test accuracy:\n",
      "0.9381943\n",
      "step: 1750\n",
      "model training accuracy:\n",
      "0.89\n",
      "model test accuracy:\n",
      "0.9401836\n",
      "step: 1800\n",
      "model training accuracy:\n",
      "0.92\n",
      "model test accuracy:\n",
      "0.9371803\n",
      "step: 1850\n",
      "model training accuracy:\n",
      "0.9\n",
      "model test accuracy:\n",
      "0.91552323\n",
      "step: 1900\n",
      "model training accuracy:\n",
      "0.89\n",
      "model test accuracy:\n",
      "0.92435366\n",
      "step: 1950\n",
      "model training accuracy:\n",
      "0.9\n",
      "model test accuracy:\n",
      "0.9236741\n",
      "final model accuracy:\n",
      "0.9471232\n"
     ]
    }
   ],
   "source": [
    "import datetime\n",
    "sess = tf.InteractiveSession()\n",
    "tf.summary.scalar('accuracy', accuracy)\n",
    "time_string = datetime.datetime.now().isoformat()\n",
    "#experiment_name = f\"one_hidden_layer_1000_steps_{time_string}\"\n",
    "\n",
    "merged = tf.summary.merge_all()\n",
    "train_writer = tf.summary.FileWriter(f'./train', sess.graph)\n",
    "test_writer  = tf.summary.FileWriter(f'./test', sess.graph)\n",
    "\n",
    "tf.global_variables_initializer().run()\n",
    "\n",
    "\n",
    "\n",
    "# Create a Tensorflow session\n",
    "\n",
    "print('Initialized')\n",
    "a =[]\n",
    "b=[]\n",
    "c=[]\n",
    "d = []\n",
    "for step in range(2000):\n",
    "    # Deffine an offset\n",
    "    offset = (step * batch_size) % (y_input_train.shape[0] - batch_size)\n",
    "    # Create batch data and labels\n",
    "    batch_data = x_input_train[offset:(offset + batch_size)]\n",
    "    batch_labels = y_input_train[offset:(offset + batch_size)]\n",
    "    \n",
    "    \n",
    "    batch_x, batch_y = batch_data , batch_labels\n",
    "    sess.run(optimizer, feed_dict={X : batch_x, Y : batch_y})\n",
    "    sess.run(accuracy,feed_dict= {X: x_input_test,Y: y_input_test})\n",
    "\n",
    "    if step % 50 == 0:\n",
    "        train = sess.run(accuracy,feed_dict= {X : batch_x, Y : batch_y})\n",
    "        test = sess.run(accuracy,feed_dict= {X: x_input_test,Y: y_input_test})\n",
    "        l_train = sess.run(loss,feed_dict= {X : batch_x, Y : batch_y})\n",
    "        l_test = sess.run(loss,feed_dict= {X : x_input_test, Y : y_input_test})\n",
    "        \n",
    "        \n",
    "        \n",
    "        a.append(train)\n",
    "        b.append(test)\n",
    "        c.append(l_train)\n",
    "        d.append(l_test)\n",
    "        \n",
    "        print(f'step: {step}')\n",
    "        print('model training accuracy:')\n",
    "        print(sess.run(accuracy,feed_dict= {X : batch_x, Y : batch_y}))\n",
    "        print('model test accuracy:')\n",
    "        print(sess.run(accuracy,feed_dict= {X: x_input_test,Y: y_input_test}))\n",
    "        #print(sess.run(roc_score, feed_dict={x : x_input_test, y : y_input_test}))\n",
    "\n",
    "        \n",
    "print(\"final model accuracy:\")\n",
    "print(sess.run(accuracy,feed_dict= {X: x_input_test,Y: y_input_test}))\n",
    "\n",
    "\n"
   ]
  },
  {
   "cell_type": "code",
   "execution_count": 51,
   "metadata": {
    "scrolled": true
   },
   "outputs": [
    {
     "data": {
      "image/png": "[encoded data removed]",
      "text/plain": [
       "<matplotlib.figure.Figure at 0x13c3e9da0>"
      ]
     },
     "metadata": {},
     "output_type": "display_data"
    }
   ],
   "source": [
    "plt.plot(a, label='Train Accuracy')\n",
    "plt.plot(b,linestyle='--', color='r', label='Test Accuracy')\n",
    "plt.xlabel('Steps')\n",
    "plt.ylabel('Accuracy')\n",
    "plt.legend()\n",
    "plt.show()"
   ]
  },
  {
   "cell_type": "code",
   "execution_count": 52,
   "metadata": {},
   "outputs": [
    {
     "data": {
      "image/png": "[encoded data removed]",
      "text/plain": [
       "<matplotlib.figure.Figure at 0x13c93e358>"
      ]
     },
     "metadata": {},
     "output_type": "display_data"
    }
   ],
   "source": [
    "plt.plot(c, label='Training Loss')\n",
    "plt.plot(d,linestyle='--', color='r', label='Test Loss')\n",
    "\n",
    "plt.xlabel('Steps')\n",
    "plt.ylabel('Loss')\n",
    "plt.legend()\n",
    "plt.show()"
   ]
  },
  {
   "cell_type": "code",
   "execution_count": 53,
   "metadata": {},
   "outputs": [
    {
     "data": {
      "text/plain": [
       "[0.7248803,\n",
       " 0.6284613,\n",
       " 0.4792352,\n",
       " 0.49091393,\n",
       " 0.47574753,\n",
       " 0.49723482,\n",
       " 0.4526637,\n",
       " 0.4963769,\n",
       " 0.45965314,\n",
       " 0.46991548,\n",
       " 0.44366542,\n",
       " 0.4408462,\n",
       " 0.48034224,\n",
       " 0.47147682,\n",
       " 0.45969978,\n",
       " 0.46822006,\n",
       " 0.5062877,\n",
       " 0.47038218,\n",
       " 0.4527352,\n",
       " 0.47487646,\n",
       " 0.4795211,\n",
       " 0.43124765,\n",
       " 0.46804345,\n",
       " 0.44214654,\n",
       " 0.51403874,\n",
       " 0.4404245,\n",
       " 0.42730123,\n",
       " 0.42999002,\n",
       " 0.47276142,\n",
       " 0.4358242,\n",
       " 0.49030468,\n",
       " 0.5260564,\n",
       " 0.4419873,\n",
       " 0.47755685,\n",
       " 0.47887388,\n",
       " 0.46775064,\n",
       " 0.44664562,\n",
       " 0.46378383,\n",
       " 0.45543784,\n",
       " 0.49339637]"
      ]
     },
     "execution_count": 53,
     "metadata": {},
     "output_type": "execute_result"
    }
   ],
   "source": [
    "c"
   ]
  },
  {
   "cell_type": "code",
   "execution_count": 60,
   "metadata": {},
   "outputs": [
    {
     "name": "stdout",
     "output_type": "stream",
     "text": [
      "Collecting pip\n",
      "\u001b[?25l  Downloading https://files.pythonhosted.org/packages/54/0c/d01aa759fdc501a58f431eb594a17495f15b88da142ce14b5845662c13f3/pip-20.0.2-py2.py3-none-any.whl (1.4MB)\n",
      "\u001b[K     |████████████████████████████████| 1.4MB 1.6MB/s eta 0:00:01\n",
      "\u001b[?25hInstalling collected packages: pip\n",
      "  Found existing installation: pip 19.2.3\n",
      "    Uninstalling pip-19.2.3:\n",
      "      Successfully uninstalled pip-19.2.3\n",
      "Successfully installed pip-20.0.2\n"
     ]
    }
   ],
   "source": [
    "!pip install --upgrade pip"
   ]
  },
  {
   "cell_type": "code",
   "execution_count": null,
   "metadata": {
    "collapsed": true
   },
   "outputs": [],
   "source": [
    "conda update -n base conda"
   ]
  },
  {
   "cell_type": "code",
   "execution_count": null,
   "metadata": {
    "scrolled": true
   },
   "outputs": [
    {
     "name": "stdout",
     "output_type": "stream",
     "text": [
      "Collecting package metadata (repodata.json): done\n",
      "Solving environment: \\ \n",
      "Warning: >10 possible package resolutions (only showing differing packages):\n",
      "  - https://repo.continuum.io/pkgs/main/osx-64/bzip2-1.0.6-h92991f9_1.tar.bz2::bzip2-1.0.6-h92991f9_1, https://repo.continuum.io/pkgs/main/osx-64/conda-env-2.6.0-h36134e3_0.tar.bz2::conda-env-2.6.0-h36134e3_0, https://repo.continuum.io/pkgs/main/osx-64/gettext-0.19.8.1-hb0f4f8b_2.tar.bz2::gettext-0.19.8.1-hb0f4f8b_2, https://repo.continuum.io/pkgs/main/osx-64/intel-openmp-2018.0.0-h68bdfb3_7.tar.bz2::intel-openmp-2018.0.0-h68bdfb3_7\n",
      "  - defaults::bzip2-1.0.6-h92991f9_1, https://repo.continuum.io/pkgs/main/osx-64/conda-env-2.6.0-h36134e3_0.tar.bz2::conda-env-2.6.0-h36134e3_0, https://repo.continuum.io/pkgs/main/osx-64/gettext-0.19.8.1-hb0f4f8b_2.tar.bz2::gettext-0.19.8.1-hb0f4f8b_2, https://repo.continuum.io/pkgs/main/osx-64/intel-openmp-2018.0.0-h68bdfb3_7.tar.bz2::intel-openmp-2018.0.0-h68bdfb3_7\n",
      "  - defaults::conda-env-2.6.0-h36134e3_0, https://repo.continuum.io/pkgs/main/osx-64/bzip2-1.0.6-h92991f9_1.tar.bz2::bzip2-1.0.6-h92991f9_1, https://repo.continuum.io/pkgs/main/osx-64/gettext-0.19.8.1-hb0f4f8b_2.tar.bz2::gettext-0.19.8.1-hb0f4f8b_2, https://repo.continuum.io/pkgs/main/osx-64/intel-openmp-2018.0.0-h68bdfb3_7.tar.bz2::intel-openmp-2018.0.0-h68bdfb3_7\n",
      "  - defaults::bzip2-1.0.6-h92991f9_1, defaults::conda-env-2.6.0-h36134e3_0, https://repo.continuum.io/pkgs/main/osx-64/gettext-0.19.8.1-hb0f4f8b_2.tar.bz2::gettext-0.19.8.1-hb0f4f8b_2, https://repo.continuum.io/pkgs/main/osx-64/intel-openmp-2018.0.0-h68bdfb3_7.tar.bz2::intel-openmp-2018.0.0-h68bdfb3_7\n",
      "  - defaults::conda-env-2.6.0-h36134e3_0, defaults::gettext-0.19.8.1-hb0f4f8b_2, https://repo.continuum.io/pkgs/main/osx-64/bzip2-1.0.6-h92991f9_1.tar.bz2::bzip2-1.0.6-h92991f9_1, https://repo.continuum.io/pkgs/main/osx-64/intel-openmp-2018.0.0-h68bdfb3_7.tar.bz2::intel-openmp-2018.0.0-h68bdfb3_7\n",
      "  - defaults::bzip2-1.0.6-h92991f9_1, defaults::conda-env-2.6.0-h36134e3_0, defaults::gettext-0.19.8.1-hb0f4f8b_2, https://repo.continuum.io/pkgs/main/osx-64/intel-openmp-2018.0.0-h68bdfb3_7.tar.bz2::intel-openmp-2018.0.0-h68bdfb3_7\n",
      "  - defaults::gettext-0.19.8.1-hb0f4f8b_2, https://repo.continuum.io/pkgs/main/osx-64/bzip2-1.0.6-h92991f9_1.tar.bz2::bzip2-1.0.6-h92991f9_1, https://repo.continuum.io/pkgs/main/osx-64/conda-env-2.6.0-h36134e3_0.tar.bz2::conda-env-2.6.0-h36134e3_0, https://repo.continuum.io/pkgs/main/osx-64/intel-openmp-2018.0.0-h68bdfb3_7.tar.bz2::intel-openmp-2018.0.0-h68bdfb3_7\n",
      "  - defaults::bzip2-1.0.6-h92991f9_1, defaults::gettext-0.19.8.1-hb0f4f8b_2, https://repo.continuum.io/pkgs/main/osx-64/conda-env-2.6.0-h36134e3_0.tar.bz2::conda-env-2.6.0-h36134e3_0, https://repo.continuum.io/pkgs/main/osx-64/intel-openmp-2018.0.0-h68bdfb3_7.tar.bz2::intel-openmp-2018.0.0-h68bdfb3_7\n",
      "  - defaults::gettext-0.19.8.1-hb0f4f8b_2, defaults::intel-openmp-2018.0.0-h68bdfb3_7, https://repo.continuum.io/pkgs/main/osx-64/bzip2-1.0.6-h92991f9_1.tar.bz2::bzip2-1.0.6-h92991f9_1, https://repo.continuum.io/pkgs/main/osx-64/conda-env-2.6.0-h36134e3_0.tar.bz2::conda-env-2.6.0-h36134e3_0\n",
      "  - defaults::intel-openmp-2018.0.0-h68bdfb3_7, https://repo.continuum.io/pkgs/main/osx-64/bzip2-1.0.6-h92991f9_1.tar.bz2::bzip2-1.0.6-h92991f9_1, https://repo.continuum.io/pkgs/main/osx-64/conda-env-2.6.0-h36134e3_0.tar.bz2::conda-env-2.6.0-h36134e3_0, https://repo.continuum.io/pkgs/main/osx-64/gettext-0.19.8.1-hb0f4f8b_2.tar.bz2::gettext-0.19.8.1-hb0f4f8b_2\n",
      "  ... and othedone\n",
      "\n",
      "\n",
      "==> WARNING: A newer version of conda exists. <==\n",
      "  current version: 4.7.12\n",
      "  latest version: 4.8.2\n",
      "\n",
      "Please update conda by running\n",
      "\n",
      "    $ conda update -n base conda\n",
      "\n",
      "\n",
      "\n",
      "## Package Plan ##\n",
      "\n",
      "  environment location: /Users/monaaghaee/anaconda3\n",
      "\n",
      "  added / updated specs:\n",
      "    - xgboost\n",
      "\n",
      "\n",
      "The following packages will be downloaded:\n",
      "\n",
      "    package                    |            build\n",
      "    ---------------------------|-----------------\n",
      "    _py-xgboost-mutex-2.0      |            cpu_0           8 KB  conda-forge\n",
      "    ca-certificates-2019.11.28 |       hecc5488_0         145 KB  conda-forge\n",
      "    certifi-2019.11.28         |           py36_0         148 KB  conda-forge\n",
      "    conda-4.8.2                |           py36_0         3.0 MB  conda-forge\n",
      "    libxgboost-0.90            |       h6de7cb9_2         1.4 MB  conda-forge\n",
      "    llvm-openmp-9.0.1          |       h28b9765_2         265 KB  conda-forge\n",
      "    openssl-1.0.2u             |       h0b31af3_0         3.1 MB  conda-forge\n",
      "    py-xgboost-0.90            |   py36h6de7cb9_2          73 KB  conda-forge\n",
      "    xgboost-0.90               |   py36h6de7cb9_2          11 KB  conda-forge\n",
      "    ------------------------------------------------------------\n",
      "                                           Total:         8.1 MB\n",
      "\n",
      "The following NEW packages will be INSTALLED:\n",
      "\n",
      "  _py-xgboost-mutex  conda-forge/osx-64::_py-xgboost-mutex-2.0-cpu_0\n",
      "  libxgboost         conda-forge/osx-64::libxgboost-0.90-h6de7cb9_2\n",
      "  llvm-openmp        conda-forge/osx-64::llvm-openmp-9.0.1-h28b9765_2\n",
      "  py-xgboost         conda-forge/osx-64::py-xgboost-0.90-py36h6de7cb9_2\n",
      "  xgboost            conda-forge/osx-64::xgboost-0.90-py36h6de7cb9_2\n",
      "\n",
      "The following packages will be UPDATED:\n",
      "\n",
      "  ca-certificates    pkgs/main::ca-certificates-2019.5.15-1 --> conda-forge::ca-certificates-2019.11.28-hecc5488_0\n",
      "  certifi               pkgs/main::certifi-2019.6.16-py36_1 --> conda-forge::certifi-2019.11.28-py36_0\n",
      "  conda                      pkgs/main::conda-4.7.12-py36_0 --> conda-forge::conda-4.8.2-py36_0\n",
      "  openssl              pkgs/main::openssl-1.0.2t-h1de35cc_1 --> conda-forge::openssl-1.0.2u-h0b31af3_0\n",
      "\n",
      "\n",
      "Proceed ([y]/n)? "
     ]
    }
   ],
   "source": [
    "!conda install -c conda-forge xgboost"
   ]
  },
  {
   "cell_type": "code",
   "execution_count": 1,
   "metadata": {
    "collapsed": true,
    "scrolled": true
   },
   "outputs": [],
   "source": [
    "import xgboost"
   ]
  },
  {
   "cell_type": "code",
   "execution_count": 39,
   "metadata": {},
   "outputs": [
    {
     "ename": "ValueError",
     "evalue": "DataFrame for label cannot have multiple columns",
     "output_type": "error",
     "traceback": [
      "\u001b[0;31m---------------------------------------------------------------------------\u001b[0m",
      "\u001b[0;31mValueError\u001b[0m                                Traceback (most recent call last)",
      "\u001b[0;32m<ipython-input-39-485126116507>\u001b[0m in \u001b[0;36m<module>\u001b[0;34m()\u001b[0m\n\u001b[1;32m      1\u001b[0m \u001b[0mxgb_reg\u001b[0m \u001b[0;34m=\u001b[0m \u001b[0mxgboost\u001b[0m\u001b[0;34m.\u001b[0m\u001b[0mXGBRegressor\u001b[0m\u001b[0;34m(\u001b[0m\u001b[0;34m)\u001b[0m\u001b[0;34m\u001b[0m\u001b[0m\n\u001b[0;32m----> 2\u001b[0;31m \u001b[0mxgb_reg\u001b[0m\u001b[0;34m.\u001b[0m\u001b[0mfit\u001b[0m\u001b[0;34m(\u001b[0m\u001b[0mX_train\u001b[0m\u001b[0;34m,\u001b[0m\u001b[0my_train\u001b[0m\u001b[0;34m)\u001b[0m\u001b[0;34m\u001b[0m\u001b[0m\n\u001b[0m\u001b[1;32m      3\u001b[0m \u001b[0my_pred\u001b[0m \u001b[0;34m=\u001b[0m \u001b[0mxgb_reg\u001b[0m\u001b[0;34m.\u001b[0m\u001b[0mpredict\u001b[0m\u001b[0;34m(\u001b[0m\u001b[0mx_val\u001b[0m\u001b[0;34m)\u001b[0m\u001b[0;34m\u001b[0m\u001b[0m\n",
      "\u001b[0;32m~/anaconda3/lib/python3.6/site-packages/xgboost/sklearn.py\u001b[0m in \u001b[0;36mfit\u001b[0;34m(self, X, y, sample_weight, eval_set, eval_metric, early_stopping_rounds, verbose, xgb_model, sample_weight_eval_set, callbacks)\u001b[0m\n\u001b[1;32m    358\u001b[0m                                    missing=self.missing, nthread=self.n_jobs)\n\u001b[1;32m    359\u001b[0m         \u001b[0;32melse\u001b[0m\u001b[0;34m:\u001b[0m\u001b[0;34m\u001b[0m\u001b[0m\n\u001b[0;32m--> 360\u001b[0;31m             \u001b[0mtrainDmatrix\u001b[0m \u001b[0;34m=\u001b[0m \u001b[0mDMatrix\u001b[0m\u001b[0;34m(\u001b[0m\u001b[0mX\u001b[0m\u001b[0;34m,\u001b[0m \u001b[0mlabel\u001b[0m\u001b[0;34m=\u001b[0m\u001b[0my\u001b[0m\u001b[0;34m,\u001b[0m \u001b[0mmissing\u001b[0m\u001b[0;34m=\u001b[0m\u001b[0mself\u001b[0m\u001b[0;34m.\u001b[0m\u001b[0mmissing\u001b[0m\u001b[0;34m,\u001b[0m \u001b[0mnthread\u001b[0m\u001b[0;34m=\u001b[0m\u001b[0mself\u001b[0m\u001b[0;34m.\u001b[0m\u001b[0mn_jobs\u001b[0m\u001b[0;34m)\u001b[0m\u001b[0;34m\u001b[0m\u001b[0m\n\u001b[0m\u001b[1;32m    361\u001b[0m \u001b[0;34m\u001b[0m\u001b[0m\n\u001b[1;32m    362\u001b[0m         \u001b[0mevals_result\u001b[0m \u001b[0;34m=\u001b[0m \u001b[0;34m{\u001b[0m\u001b[0;34m}\u001b[0m\u001b[0;34m\u001b[0m\u001b[0m\n",
      "\u001b[0;32m~/anaconda3/lib/python3.6/site-packages/xgboost/core.py\u001b[0m in \u001b[0;36m__init__\u001b[0;34m(self, data, label, missing, weight, silent, feature_names, feature_types, nthread)\u001b[0m\n\u001b[1;32m    383\u001b[0m                                                             \u001b[0mfeature_names\u001b[0m\u001b[0;34m,\u001b[0m\u001b[0;34m\u001b[0m\u001b[0m\n\u001b[1;32m    384\u001b[0m                                                             feature_types)\n\u001b[0;32m--> 385\u001b[0;31m         \u001b[0mlabel\u001b[0m \u001b[0;34m=\u001b[0m \u001b[0m_maybe_pandas_label\u001b[0m\u001b[0;34m(\u001b[0m\u001b[0mlabel\u001b[0m\u001b[0;34m)\u001b[0m\u001b[0;34m\u001b[0m\u001b[0m\n\u001b[0m\u001b[1;32m    386\u001b[0m         \u001b[0mlabel\u001b[0m \u001b[0;34m=\u001b[0m \u001b[0m_maybe_dt_array\u001b[0m\u001b[0;34m(\u001b[0m\u001b[0mlabel\u001b[0m\u001b[0;34m)\u001b[0m\u001b[0;34m\u001b[0m\u001b[0m\n\u001b[1;32m    387\u001b[0m         \u001b[0mweight\u001b[0m \u001b[0;34m=\u001b[0m \u001b[0m_maybe_dt_array\u001b[0m\u001b[0;34m(\u001b[0m\u001b[0mweight\u001b[0m\u001b[0;34m)\u001b[0m\u001b[0;34m\u001b[0m\u001b[0m\n",
      "\u001b[0;32m~/anaconda3/lib/python3.6/site-packages/xgboost/core.py\u001b[0m in \u001b[0;36m_maybe_pandas_label\u001b[0;34m(label)\u001b[0m\n\u001b[1;32m    261\u001b[0m     \u001b[0;32mif\u001b[0m \u001b[0misinstance\u001b[0m\u001b[0;34m(\u001b[0m\u001b[0mlabel\u001b[0m\u001b[0;34m,\u001b[0m \u001b[0mDataFrame\u001b[0m\u001b[0;34m)\u001b[0m\u001b[0;34m:\u001b[0m\u001b[0;34m\u001b[0m\u001b[0m\n\u001b[1;32m    262\u001b[0m         \u001b[0;32mif\u001b[0m \u001b[0mlen\u001b[0m\u001b[0;34m(\u001b[0m\u001b[0mlabel\u001b[0m\u001b[0;34m.\u001b[0m\u001b[0mcolumns\u001b[0m\u001b[0;34m)\u001b[0m \u001b[0;34m>\u001b[0m \u001b[0;36m1\u001b[0m\u001b[0;34m:\u001b[0m\u001b[0;34m\u001b[0m\u001b[0m\n\u001b[0;32m--> 263\u001b[0;31m             \u001b[0;32mraise\u001b[0m \u001b[0mValueError\u001b[0m\u001b[0;34m(\u001b[0m\u001b[0;34m'DataFrame for label cannot have multiple columns'\u001b[0m\u001b[0;34m)\u001b[0m\u001b[0;34m\u001b[0m\u001b[0m\n\u001b[0m\u001b[1;32m    264\u001b[0m \u001b[0;34m\u001b[0m\u001b[0m\n\u001b[1;32m    265\u001b[0m         \u001b[0mlabel_dtypes\u001b[0m \u001b[0;34m=\u001b[0m \u001b[0mlabel\u001b[0m\u001b[0;34m.\u001b[0m\u001b[0mdtypes\u001b[0m\u001b[0;34m\u001b[0m\u001b[0m\n",
      "\u001b[0;31mValueError\u001b[0m: DataFrame for label cannot have multiple columns"
     ]
    }
   ],
   "source": [
    "xgb_reg = xgboost.XGBRegressor()\n",
    "xgb_reg.fit(X_train,y_train)\n",
    "y_pred = xgb_reg.predict(x_val)"
   ]
  },
  {
   "cell_type": "code",
   "execution_count": null,
   "metadata": {
    "collapsed": true
   },
   "outputs": [],
   "source": []
  }
 ],
 "metadata": {
  "kernelspec": {
   "display_name": "Python 3",
   "language": "python",
   "name": "python3"
  },
  "language_info": {
   "codemirror_mode": {
    "name": "ipython",
    "version": 3
   },
   "file_extension": ".py",
   "mimetype": "text/x-python",
   "name": "python",
   "nbconvert_exporter": "python",
   "pygments_lexer": "ipython3",
   "version": "3.6.3"
  }
 },
 "nbformat": 4,
 "nbformat_minor": 2
}
